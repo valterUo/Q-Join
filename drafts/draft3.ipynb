{
 "cells": [
  {
   "cell_type": "code",
   "execution_count": 1,
   "metadata": {},
   "outputs": [],
   "source": [
    "class Tree:\n",
    "    \n",
    "    def __init__(self, join, level, coefficient = None):\n",
    "        self.join = join\n",
    "        self.level = level\n",
    "        self.coefficient = coefficient\n",
    "        self.children = []\n",
    "        \n",
    "    \n",
    "    def add_child(self, child):\n",
    "        self.children.append(child)\n",
    "    \n",
    "    def join_in_tree(self, join):\n",
    "        if join == self.join:\n",
    "            return True\n",
    "        for child in self.children:\n",
    "            if child.join_in_tree(join):\n",
    "                return True\n",
    "        return False\n",
    "    \n",
    "    def table_in_tree(self, table):\n",
    "        if table in self.join:\n",
    "            return True\n",
    "        for child in self.children:\n",
    "            if child.table_in_tree(table):\n",
    "                return True\n",
    "        return False\n",
    "    \n",
    "    def __str__(self):\n",
    "        return self.join + \" \" + str(self.level) + \" \" + str(self.coefficient) + \"\\n ...\" + str(self.children)"
   ]
  },
  {
   "cell_type": "code",
   "execution_count": null,
   "metadata": {},
   "outputs": [],
   "source": [
    "tables = [0,1,2,3]\n",
    "joins = [(0, 1), (1, 2), (2, 3)]\n",
    "selectivity = {(0, 1): 1, (1, 2): 1, (2, 3): 1}\n",
    "cardinality = {0: 100, 1: 100, 2: 100, 3: 100}\n",
    "levels = range(3)\n",
    "trees = []\n",
    "\n",
    "for level in levels:\n",
    "    for join in joins:  \n",
    "        if level == 0:\n",
    "            cost = cardinality[join[0]] * cardinality[join[1]] * selectivity[join]\n",
    "            trees.append(Tree(join, level, cost))\n",
    "        else:\n",
    "            new_tree = Tree(join, level)\n",
    "            for tree in trees:\n",
    "                if not tree.join_in_tree(join):\n",
    "                    new_tree.add_child(tree)"
   ]
  }
 ],
 "metadata": {
  "kernelspec": {
   "display_name": "Python 3",
   "language": "python",
   "name": "python3"
  },
  "language_info": {
   "codemirror_mode": {
    "name": "ipython",
    "version": 3
   },
   "file_extension": ".py",
   "mimetype": "text/x-python",
   "name": "python",
   "nbconvert_exporter": "python",
   "pygments_lexer": "ipython3",
   "version": "3.10.8"
  }
 },
 "nbformat": 4,
 "nbformat_minor": 2
}
