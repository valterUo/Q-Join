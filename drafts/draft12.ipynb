{
 "cells": [
  {
   "cell_type": "code",
   "execution_count": 1,
   "metadata": {},
   "outputs": [
    {
     "name": "stdout",
     "output_type": "stream",
     "text": [
      "4\n"
     ]
    },
    {
     "data": {
      "image/png": "[encoded data removed]",
      "text/plain": [
       "<Figure size 576x432 with 1 Axes>"
      ]
     },
     "metadata": {},
     "output_type": "display_data"
    }
   ],
   "source": [
    "import networkx as nx\n",
    "import matplotlib.pyplot as plt\n",
    "from query_graphs.query_graphs import QueryGraphs\n",
    "\n",
    "import matplotlib\n",
    "import matplotlib.pyplot as plt\n",
    "\n",
    "matplotlib.rcParams['font.family'] = 'DejaVu Serif'\n",
    "\n",
    "#query_graph = QueryGraphs().get_graph_7(9)\n",
    "#query_graph = QueryGraphs().get_graph_8(7)\n",
    "query_graph = QueryGraphs().get_path_graph(5)\n",
    "\n",
    "n_joins = len(query_graph.edges) - len(nx.cycle_basis(query_graph))\n",
    "max_number_of_levels = n_joins\n",
    "print(max_number_of_levels)\n",
    "levels = range(max_number_of_levels)\n",
    "\n",
    "relations = {}\n",
    "for node in query_graph.nodes(data=True):\n",
    "    relations[node[0]] = node[1]\n",
    "\n",
    "selectivities = dict()\n",
    "for edge in query_graph.edges(data=True):\n",
    "    selectivities[(edge[0], edge[1])] = edge[2]\n",
    "\n",
    "# Define node colors and sizes\n",
    "node_color = 'sandybrown'\n",
    "node_size = [600 for node in query_graph.nodes()]\n",
    "\n",
    "# Define edge colors\n",
    "edge_color = 'gray'\n",
    "\n",
    "# Set the background color of the plot\n",
    "plt.figure(figsize=(8, 6))\n",
    "plt.gca().set_facecolor('whitesmoke')\n",
    "\n",
    "nx.draw(query_graph,\n",
    "        pos=nx.spring_layout(query_graph, seed=42),  # Use a spring layout for positioning\n",
    "        node_color=node_color,\n",
    "        node_size=node_size,\n",
    "        edge_color=edge_color,\n",
    "        with_labels=False,  # Display node labels\n",
    "        font_size=10,      # Set font size for labels\n",
    "        font_color='black',# Set font color for labels\n",
    "        width=3.0,         # Set edge width\n",
    "        style='solid',     # Set edge style\n",
    "        alpha=1.0          # Set transparency\n",
    "       )\n",
    "\n",
    "# Show the plot\n",
    "plt.show()"
   ]
  },
  {
   "cell_type": "code",
   "execution_count": 2,
   "metadata": {},
   "outputs": [],
   "source": [
    "import matplotlib.pyplot as plt\n",
    "from itertools import combinations\n",
    "\n",
    "def get_connected_subgraphs_dfs(graph, node, n):\n",
    "    connected_subgraphs = set()\n",
    "    \n",
    "    # Function to perform DFS to find connected subgraphs of size n\n",
    "    def dfs(start_node, path):\n",
    "        \n",
    "        if len(path) == n + 1:\n",
    "            connected_subgraphs.add(tuple(path))\n",
    "            return\n",
    "        \n",
    "        for r in range(1, n - len(path) + 2):\n",
    "            for neighbors_combination in combinations(graph.neighbors(start_node), r):\n",
    "                for neighbor in neighbors_combination:\n",
    "                    if neighbor not in path:\n",
    "                        dfs(neighbor, path.union(set(neighbors_combination)))\n",
    "    \n",
    "    for r in range(1, n + 1):\n",
    "        for neighbors_combination in combinations(graph.neighbors(node), r):\n",
    "            for neighbor in neighbors_combination:\n",
    "                dfs(neighbor, set(list(neighbors_combination) + [node]))\n",
    "    \n",
    "    return connected_subgraphs"
   ]
  },
  {
   "cell_type": "code",
   "execution_count": 3,
   "metadata": {},
   "outputs": [],
   "source": [
    "from classical_algorithms.weights_costs import basic_cost, join_tree_cardinality\n",
    "\n",
    "\n",
    "class Variable:\n",
    "    \n",
    "    def __init__(self, relations, selectivities, new_subgraph, subgraph, rel1, rel2, level, base_labeling):\n",
    "        self.query_graph = query_graph\n",
    "        self.subgraph = subgraph\n",
    "        self.level = level\n",
    "        self.local_cost = 1\n",
    "        self.new_subgraph = new_subgraph\n",
    "        \n",
    "        tables = list(new_subgraph)\n",
    "        join_tree = [tables[0], tables[1]]\n",
    "        for rel in tables[2:]:\n",
    "            join_tree = [rel, join_tree]\n",
    "\n",
    "        self.local_cost = join_tree_cardinality(join_tree, relations, selectivities)\n",
    "        \n",
    "        self.labeling = base_labeling + [(rel1, rel2, level)]\n",
    "        self.rel1 = rel1\n",
    "        self.rel2 = rel2\n",
    "        \n",
    "    def get_labeling(self):\n",
    "        return self.labeling\n",
    "    \n",
    "    def get_local_cost(self):\n",
    "        return self.local_cost\n",
    "    \n",
    "    def __str__(self) -> str:\n",
    "        return f'Variable({self.rel1}, {self.rel2}, {self.level}) with labelings {self.labeling} and local cost {self.local_cost}'"
   ]
  },
  {
   "cell_type": "code",
   "execution_count": 4,
   "metadata": {},
   "outputs": [],
   "source": [
    "variables = {}\n",
    "#all_connected_subgraphs = set()\n",
    "\n",
    "for level in levels:\n",
    "    for edge in query_graph.edges(data=True):\n",
    "        \n",
    "        if level == 0:\n",
    "            subgraph = frozenset([edge[0], edge[1]])\n",
    "            variables[subgraph] = [Variable(relations, selectivities, subgraph, subgraph, edge[0], edge[1], level, [])]\n",
    "        else:\n",
    "            join1 = edge[0]\n",
    "            join2 = edge[1]\n",
    "            \n",
    "            query_graph_copy = query_graph.copy()\n",
    "            edge_to_remove = (join1, join2)\n",
    "            query_graph_copy.remove_edge(*edge_to_remove)\n",
    "            \n",
    "            connected_subgraphs = get_connected_subgraphs_dfs(query_graph_copy, join1, level)\n",
    "            connected_subgraphs = connected_subgraphs.union(get_connected_subgraphs_dfs(query_graph_copy, join2, level))\n",
    "            \n",
    "            #print(\"Number of subgraphs: \", len(connected_subgraphs))\n",
    "            \n",
    "            #print(\"Join: \", edge)\n",
    "            #print(\"Level: \", level)\n",
    "            #print(connected_subgraphs)\n",
    "            #all_connected_subgraphs = all_connected_subgraphs.union(connected_subgraphs)\n",
    "            \n",
    "            for subgraph in connected_subgraphs:\n",
    "                new_subgraph = frozenset(subgraph + (join1, join2))\n",
    "                subgraph = frozenset(subgraph)\n",
    "                \n",
    "                #if new_subgraph not in variables:\n",
    "                #    variables[new_subgraph] = []\n",
    "                \n",
    "                new_variables = {}\n",
    "                 \n",
    "                for var in variables[subgraph]:\n",
    "                    #print(var)\n",
    "                    \n",
    "                    if new_subgraph not in new_variables:\n",
    "                        new_variables[new_subgraph] = []\n",
    "                    \n",
    "                    new_variables[new_subgraph].append(Variable(relations, selectivities, new_subgraph, subgraph, join1, join2, level, var.get_labeling()))\n",
    "                \n",
    "                for new_s in new_variables:\n",
    "                    if new_s in variables:\n",
    "                        variables[new_s].extend(new_variables[new_s])\n",
    "                    else:\n",
    "                        variables[new_s] = new_variables[new_s]"
   ]
  },
  {
   "cell_type": "code",
   "execution_count": 5,
   "metadata": {},
   "outputs": [],
   "source": [
    "import dimod\n",
    "\n",
    "def variables_to_dict(variables):\n",
    "    variables_dict = {}\n",
    "    for v in variables:\n",
    "        for var in variables[v]:\n",
    "            labeling = var.get_labeling()\n",
    "            variables_dict[tuple(labeling)] = var.get_local_cost()\n",
    "    return variables_dict\n",
    "\n",
    "\n",
    "var_dict = variables_to_dict(variables)"
   ]
  },
  {
   "cell_type": "code",
   "execution_count": 6,
   "metadata": {},
   "outputs": [
    {
     "name": "stdout",
     "output_type": "stream",
     "text": [
      "Number of variables:  14\n"
     ]
    }
   ],
   "source": [
    "# At every level we perform exactly one join\n",
    "hubo = dimod.BinaryPolynomial(var_dict, dimod.Vartype.BINARY)\n",
    "hubo_total_cost = dimod.BinaryPolynomial(var_dict, dimod.Vartype.BINARY)\n",
    "hubo.normalize()\n",
    "hubo_variables = hubo.variables\n",
    "print(\"Number of variables: \", len(hubo_variables))\n",
    "var_dict, off = hubo.to_hubo()\n",
    "#var_dict = {}\n",
    "\n",
    "variables_by_levels = {}\n",
    "for level in levels:\n",
    "    variables_by_levels[level] = []\n",
    "    for v in hubo_variables:\n",
    "        if v[2] == level:\n",
    "            variables_by_levels[level].append(v)\n",
    "            \n",
    "#print(variables_by_levels)\n",
    "\n",
    "for l in variables_by_levels:\n",
    "    vars = variables_by_levels[l]\n",
    "    bqm = dimod.generators.combinations(vars, 1, strength = 5)\n",
    "    for bvar in bqm.linear:\n",
    "        if (bvar,) in var_dict:\n",
    "            var_dict[(bvar,)] = bqm.linear[bvar] + var_dict[(bvar,)]\n",
    "        else:\n",
    "            var_dict[(bvar,)] = bqm.linear[bvar]\n",
    "    for bvar in bqm.quadratic:\n",
    "        if bvar in var_dict:\n",
    "            var_dict[bvar] = bqm.quadratic[bvar] + var_dict[bvar]\n",
    "        else:\n",
    "            var_dict[bvar] = bqm.quadratic[bvar]           \n"
   ]
  },
  {
   "cell_type": "code",
   "execution_count": 7,
   "metadata": {},
   "outputs": [],
   "source": [
    "# (x - a - b - c)^2 = a^2 + 2 a b + 2 a c - 2 a x + b^2 + 2 b c - 2 b x + c^2 - 2 c x + x^2\n",
    "def combinations_with_variable(x, vars, scaler = 1):\n",
    "    result = {}\n",
    "    result[(x,)] = scaler\n",
    "    for v in vars:\n",
    "        result[(v,)] = scaler\n",
    "        result[(x, v)] = -2 * scaler\n",
    "    \n",
    "    for comb in combinations(vars, 2):\n",
    "        result[comb] = 2 * scaler\n",
    "    \n",
    "    return result"
   ]
  },
  {
   "cell_type": "code",
   "execution_count": 8,
   "metadata": {},
   "outputs": [],
   "source": [
    "import numpy as np\n",
    "\n",
    "def table_number_constraint(tables, table_id, scaler = 1):\n",
    "    # (1 + 2*x_2 + ... + max_number_of_levels * x_n - sum over table vars)^2\n",
    "    \n",
    "    integer_vars = []\n",
    "    N = max_number_of_levels\n",
    "    M = int(np.floor(np.log2(N)))\n",
    "    \n",
    "    # x_0 = 1 fixed\n",
    "    for i in range(1, M + 1):\n",
    "        if i == M:\n",
    "            integer_vars.append((f'table_{table_id}_{i}', (N + 1 - 2**M)))\n",
    "        integer_vars.append((f'table_{table_id}_{i}', 2**i))\n",
    "        \n",
    "    result = {}\n",
    "    \n",
    "    for int_var in integer_vars:\n",
    "        result[(int_var[0],)] = scaler * (int_var[1]**2 + 2 * int_var[1])\n",
    "    \n",
    "    for table in tables:\n",
    "        result[(table,)] = -scaler\n",
    "    \n",
    "    for x, y in combinations(integer_vars + tables, 2):\n",
    "        if x in integer_vars and y in integer_vars:\n",
    "            result[(x[0], y[0])] = 2 * scaler * x[1] * y[1]\n",
    "        elif x in integer_vars and y in tables:\n",
    "            result[(x[0], y)] = -2 * scaler * x[1]\n",
    "        elif x in tables and y in integer_vars:\n",
    "            result[(x, y[0])] = -2 * scaler * y[1]\n",
    "        else:\n",
    "            result[(x, y)] = 2 * scaler\n",
    "    \n",
    "    return result"
   ]
  },
  {
   "cell_type": "code",
   "execution_count": 9,
   "metadata": {},
   "outputs": [
    {
     "name": "stdout",
     "output_type": "stream",
     "text": [
      "Labelings for full join:  8\n"
     ]
    }
   ],
   "source": [
    "if True:\n",
    "    # Encode (1 - labelings for variables[frozenset({0, 1, 2, 3, 4})])^2\n",
    "    # (1 - x - y - z)^2 = x^2 + 2 x y + 2 x z - 2 x + y^2 + 2 y z - 2 y + z^2 - 2 z + 1\n",
    "    # = -x - y - z + 2 x y + 2 x z + 2 y z + 1    \n",
    "    offset = 1\n",
    "    scaler = 2\n",
    "    labelings_for_full_join = [var.get_labeling() for var in variables[frozenset(query_graph.nodes)]]\n",
    "    print(\"Labelings for full join: \", len(labelings_for_full_join))\n",
    "    for labeling in labelings_for_full_join:\n",
    "        \n",
    "        if tuple(labeling) in var_dict:\n",
    "            var_dict[tuple(labeling)] = var_dict[tuple(labeling)] - 1*scaler\n",
    "        else:\n",
    "            var_dict[tuple(labeling)] = -1*scaler\n",
    "            \n",
    "    for comb in combinations(labelings_for_full_join, 2):\n",
    "        prod = tuple(comb[0] + comb[1])\n",
    "        if prod in var_dict:\n",
    "            var_dict[prod] = var_dict[prod] + 2*scaler\n",
    "        else:\n",
    "            var_dict[prod] = 2*scaler\n",
    "            \n",
    "if False:\n",
    "    # Constraint 1\n",
    "    # select exactly n_joins many different joins\n",
    "    variables_by_joins = {}\n",
    "    for var in hubo_variables:\n",
    "        join = (var[0], var[1])\n",
    "        if join in variables_by_joins:\n",
    "            variables_by_joins[join].append(var)\n",
    "        else:\n",
    "            variables_by_joins[join] = [var]\n",
    "            \n",
    "    #print(\"Joins: \", len(variables_by_joins))\n",
    "    \n",
    "    aux_vars = []\n",
    "    for x, vars in variables_by_joins.items():\n",
    "        aux_var = 'aux_' + str(x)\n",
    "        aux_vars.append(aux_var)\n",
    "        combs = combinations_with_variable(aux_var, vars, scaler=3)\n",
    "        for comb in combs:\n",
    "            if comb in var_dict:\n",
    "                var_dict[comb] = var_dict[comb] + combs[comb]\n",
    "            else:\n",
    "                var_dict[comb] = combs[comb]\n",
    "                \n",
    "    # Select exactly n_joins many aux_vars to be true\n",
    "    \n",
    "    bqm = dimod.generators.combinations(aux_vars, n_joins, strength=3)\n",
    "    \n",
    "    for bvar in bqm.linear:\n",
    "        if (bvar,) in var_dict:\n",
    "            var_dict[(bvar,)] = bqm.linear[bvar] + var_dict[(bvar,)]\n",
    "        else:\n",
    "            var_dict[(bvar,)] = bqm.linear[bvar]\n",
    "    \n",
    "    for bvar in bqm.quadratic:\n",
    "        if bvar in var_dict:\n",
    "            var_dict[bvar] = bqm.quadratic[bvar] + var_dict[bvar]\n",
    "        else:\n",
    "            var_dict[bvar] = bqm.quadratic[bvar]\n",
    "    \n",
    "    # Constraint 2\n",
    "    # level + 1 should be connecte to level so that if (x, y, l) and (x', y', l + 1) and x != x' and y != y' then (x, y, l) and (x', y', l + 1) should be penalized\n",
    "    scaler = 5\n",
    "    \n",
    "    for level in levels:\n",
    "        if level == 0:\n",
    "            continue\n",
    "        \n",
    "        join_vars = variables_by_levels[level]\n",
    "        prev_join_vars = variables_by_levels[level - 1]\n",
    "        \n",
    "        for var1 in join_vars:\n",
    "            for var2 in prev_join_vars:\n",
    "                if var1[0] != var2[0] and var1[1] != var2[1]:\n",
    "                    # Penalize if two joins are not connected\n",
    "                    if (var1, var2) in var_dict:\n",
    "                        var_dict[(var1, var2)] = var_dict[(var1, var2)] + scaler\n",
    "                    else:\n",
    "                        var_dict[(var1, var2)] = scaler\n",
    "                        \n",
    "    # Constraint 3\n",
    "    # Every table has to appear at least once (max as many times as the number of joins)\n",
    "    \n",
    "    variables_by_tables = {}\n",
    "    for var in hubo_variables:\n",
    "        for table in var[0:2]:\n",
    "            if table in variables_by_tables:\n",
    "                variables_by_tables[table].append(var)\n",
    "            else:\n",
    "                variables_by_tables[table] = [var]\n",
    "    \n",
    "    print(variables_by_tables)\n",
    "    \n",
    "    for table_id, tables in variables_by_tables.items():\n",
    "        combs = table_number_constraint(tables, table_id, scaler=1)\n",
    "        for comb in combs:\n",
    "            if comb in var_dict:\n",
    "                var_dict[comb] = var_dict[comb] + combs[comb]\n",
    "            else:\n",
    "                var_dict[comb] = combs[comb]\n",
    "    "
   ]
  },
  {
   "cell_type": "code",
   "execution_count": 10,
   "metadata": {},
   "outputs": [
    {
     "name": "stdout",
     "output_type": "stream",
     "text": [
      "Number of variables:  14\n"
     ]
    }
   ],
   "source": [
    "hubo = dimod.BinaryPolynomial(var_dict, dimod.Vartype.BINARY)\n",
    "print(\"Number of variables: \", len(hubo.variables))\n",
    "bqm = dimod.make_quadratic(var_dict, strength=1, vartype=dimod.Vartype.BINARY)"
   ]
  },
  {
   "cell_type": "code",
   "execution_count": 11,
   "metadata": {},
   "outputs": [
    {
     "name": "stdout",
     "output_type": "stream",
     "text": [
      "Number of variables:  40\n",
      "-20.948489907688078\n",
      "(0, 1, 3)\n",
      "(1, 2, 2)\n",
      "(2, 3, 1)\n",
      "(3, 4, 0)\n"
     ]
    }
   ],
   "source": [
    "from dwave.samplers import SteepestDescentSampler, SimulatedAnnealingSampler, TabuSampler\n",
    "\n",
    "print(\"Number of variables: \", len(bqm.linear))\n",
    "#print(hubo)\n",
    "#hubo.normalize()\n",
    "solver = dimod.ExactPolySolver()\n",
    "\n",
    "#result = TabuSampler().sample(bqm, num_reads=7000)\n",
    "#result = SteepestDescentSampler().sample(bqm, initial_states=samples)\n",
    "result = solver.sample_poly(hubo)\n",
    "#result = solver.sample(bqm)\n",
    "print(result.first.energy)\n",
    "for res in result.first.sample:\n",
    "    if result.first.sample[res] == 1 and \"*\" not in res and \"_\" not in res:\n",
    "        print(res)"
   ]
  },
  {
   "cell_type": "code",
   "execution_count": 12,
   "metadata": {},
   "outputs": [],
   "source": [
    "#for s in result.first.sample:\n",
    "#    if result.first.sample[s] == 1 and \"*\" not in s:\n",
    "#        print(s)"
   ]
  },
  {
   "cell_type": "code",
   "execution_count": 13,
   "metadata": {},
   "outputs": [
    {
     "name": "stdout",
     "output_type": "stream",
     "text": [
      "3497.612482082794\n"
     ]
    }
   ],
   "source": [
    "test_point = result.first.sample\n",
    "print(hubo_total_cost.energy(test_point))"
   ]
  },
  {
   "cell_type": "code",
   "execution_count": 14,
   "metadata": {},
   "outputs": [],
   "source": [
    "import numpy as np\n",
    "\n",
    "for v, value in hubo_total_cost.to_hubo()[0].items():\n",
    "    if np.all([v1 in [(0, 3, 1), (0, 4, 3), (1, 3, 0), (2, 3, 2)] for v1 in v]):\n",
    "        print(v, value)"
   ]
  },
  {
   "cell_type": "code",
   "execution_count": 15,
   "metadata": {},
   "outputs": [
    {
     "name": "stdout",
     "output_type": "stream",
     "text": [
      "14\n"
     ]
    }
   ],
   "source": [
    "print(len(hubo_total_cost.variables))"
   ]
  }
 ],
 "metadata": {
  "kernelspec": {
   "display_name": "Python 3",
   "language": "python",
   "name": "python3"
  },
  "language_info": {
   "codemirror_mode": {
    "name": "ipython",
    "version": 3
   },
   "file_extension": ".py",
   "mimetype": "text/x-python",
   "name": "python",
   "nbconvert_exporter": "python",
   "pygments_lexer": "ipython3",
   "version": "3.10.8"
  }
 },
 "nbformat": 4,
 "nbformat_minor": 2
}
