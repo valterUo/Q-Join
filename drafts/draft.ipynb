{
 "cells": [
  {
   "cell_type": "code",
   "execution_count": 1,
   "metadata": {},
   "outputs": [],
   "source": [
    "from query_graphs.query_graphs import QueryGraphs\n",
    "\n",
    "\n",
    "query_graphs = QueryGraphs()\n",
    "query_graph = query_graphs.get_graph_1()"
   ]
  },
  {
   "cell_type": "code",
   "execution_count": 2,
   "metadata": {},
   "outputs": [
    {
     "data": {
      "image/png": "[encoded data removed]",
      "text/plain": [
       "<Figure size 432x288 with 1 Axes>"
      ]
     },
     "metadata": {},
     "output_type": "display_data"
    }
   ],
   "source": [
    "import networkx as nx\n",
    "import matplotlib.pyplot as plt\n",
    "\n",
    "# Assuming pos is the position layout for the nodes\n",
    "pos = nx.spring_layout(query_graph)\n",
    "\n",
    "nx.draw(query_graph, pos, with_labels=False)  # Draw nodes and edges\n",
    "labels = nx.get_node_attributes(query_graph, 'label')  # Assuming 'label' is the attribute name\n",
    "nx.draw_networkx_labels(query_graph, pos, labels=labels)  # Draw node labels\n",
    "\n",
    "edge_labels = nx.get_edge_attributes(query_graph, 'label')  # Assuming 'label' is the attribute name\n",
    "nx.draw_networkx_edge_labels(query_graph, pos, edge_labels=edge_labels)  # Draw edge labels\n",
    "\n",
    "plt.show()"
   ]
  },
  {
   "cell_type": "code",
   "execution_count": 3,
   "metadata": {},
   "outputs": [],
   "source": [
    "def merge_two_dicts(x, y):\n",
    "    res = {}\n",
    "    for key in x.keys():\n",
    "        res[key] = x[key]\n",
    "    for key in y.keys():\n",
    "        if key in res:\n",
    "            res[key] += y[key]\n",
    "        else:\n",
    "            res[key] = y[key]\n",
    "    return res\n",
    "\n",
    "def multiply_two_dicts(x, y):\n",
    "    res = {}\n",
    "    for key_x in x.keys():\n",
    "        for key_y in y.keys():\n",
    "            union_key = key_x.union(key_y)\n",
    "            if union_key in res:\n",
    "                res[union_key] += x[key_x] * y[key_y]\n",
    "            else:\n",
    "                res[key_x.union(key_y)] = x[key_x] * y[key_y]\n",
    "    return res\n",
    "\n",
    "class BinaryPolynomial:\n",
    "    \n",
    "    def __init__(self, binary_variables, relations):\n",
    "        self.binary_variables = binary_variables\n",
    "        self.relations = relations\n",
    "        \n",
    "    def __add__(self, other):\n",
    "        result = merge_two_dicts(self.binary_variables, other.binary_variables)\n",
    "        return BinaryPolynomial(result, self.relations.union(other.relations))\n",
    "    \n",
    "    def __mul__(self, other):\n",
    "        if not isinstance(other, BinaryPolynomial):\n",
    "            self.binary_variables = {i: self.binary_variables[i] * other for i in self.binary_variables}\n",
    "            return self\n",
    "        return BinaryPolynomial(multiply_two_dicts(self.binary_variables, other.binary_variables), self.relations.union(other.relations))\n",
    "    \n",
    "    def __str__(self):\n",
    "        res = \"\"\n",
    "        for key in self.binary_variables.keys():\n",
    "            res += str(self.binary_variables[key]) + \"*\" + \"*\".join(key) + '\\n'\n",
    "        return res"
   ]
  },
  {
   "cell_type": "code",
   "execution_count": 4,
   "metadata": {},
   "outputs": [],
   "source": [
    "def recursive_hubo(query_graph, level, hubo):\n",
    "    finish_early = False\n",
    "    for join in query_graph.edges.data():\n",
    "        \n",
    "        label = join[2][\"label\"]\n",
    "        selectivity = join[2][\"selectivity\"]\n",
    "        left_table = join[0]\n",
    "        right_table = join[1]\n",
    "        left_cardinality = query_graph.nodes[left_table][\"cardinality\"]\n",
    "        right_cardinality = query_graph.nodes[right_table][\"cardinality\"]\n",
    "        tables = set([left_table, right_table])\n",
    "        \n",
    "        if level == 0:\n",
    "            coeff = selectivity * left_cardinality * right_cardinality\n",
    "            variable = f\"{label}_{level}\"\n",
    "            bin_var = {frozenset([variable]): coeff} #BinaryVariable(coeff, {variable})\n",
    "            bin_poly = BinaryPolynomial(bin_var, tables)\n",
    "            #print((left_table, right_table, level))\n",
    "            hubo[(left_table, right_table, level)] = bin_poly\n",
    "        else:\n",
    "            #print(\"Level\", level) \n",
    "            left_bin_polys = {}\n",
    "            right_bin_polys = {}\n",
    "            \n",
    "            # Loop over edges adjacent to left_table\n",
    "            for left_join in query_graph.edges(left_table):\n",
    "                #print(left_join)\n",
    "                left = tuple(sorted(left_join))\n",
    "                if left[0] != left_table or left[1] != right_table:\n",
    "                    bin_poly_left = hubo[(left[0], left[1], level-1)]\n",
    "                    left_bin_polys[left] = bin_poly_left\n",
    "                    \n",
    "            for right_join in query_graph.edges(right_table):\n",
    "                #print(right_join)\n",
    "                right = tuple(sorted(right_join))\n",
    "                if right[0] != left_table or right[1] != right_table:\n",
    "                    bin_poly_right = hubo[(right[0], right[1], level-1)]\n",
    "                    right_bin_polys[right] = bin_poly_right\n",
    "            \n",
    "                 \n",
    "            final_bin_poly = BinaryPolynomial({}, set())\n",
    "            \n",
    "            if len(left_bin_polys) == 0:\n",
    "                left_bin_polys = {(left_table, right_table) : left_cardinality }\n",
    "            if len(right_bin_polys) == 0:\n",
    "                right_bin_polys = {(left_table, right_table) : right_cardinality }\n",
    "            \n",
    "            # Multiply all the binary polynomials\n",
    "            for left_join in left_bin_polys:\n",
    "                for right_join in right_bin_polys:\n",
    "                    #print(left_join, right_join)\n",
    "                    if (left_join[1] == right_join[1] or left_join[0] == right_join[0] or left_join[0] == right_join[1] or left_join[1] == right_join[0]) and (isinstance(left_bin_polys[left_join], BinaryPolynomial) and isinstance(right_bin_polys[right_join], BinaryPolynomial)):\n",
    "                        \n",
    "                        \n",
    "                        # This case is divided into two cases so that they are separate\n",
    "                        \n",
    "                        left_bin_poly = left_bin_polys[left_join]\n",
    "                        right_bin_poly = right_bin_polys[right_join]\n",
    "                        \n",
    "                        left_bin_poly_reduced = left_cardinality #BinaryPolynomial([BinaryVariable(left_cardinality, set())], set([left_table])) #hubo[(left_join[0], left_join[1], level-1)]\n",
    "                        right_bin_poly_reduced = right_cardinality #BinaryPolynomial([BinaryVariable(right_cardinality, set())], set([right_table])) #hubo[(right_join[0], right_join[1], level-1)]\n",
    "                        \n",
    "                        current_tables = left_bin_poly.relations.union(right_bin_poly.relations).union(tables)\n",
    "                        if current_tables == set(query_graph.nodes):\n",
    "                            finish_early = False\n",
    "                        \n",
    "                        current_bin_poly = BinaryPolynomial({frozenset([f'{label}_{level}']) : selectivity }, current_tables)\n",
    "                        \n",
    "                        final_bin_poly += left_bin_poly * right_bin_poly_reduced * current_bin_poly\n",
    "                        final_bin_poly += right_bin_poly * left_bin_poly_reduced * current_bin_poly\n",
    "                        \n",
    "                    else:\n",
    "                        #print(\"No intersection\")\n",
    "                        left_bin_poly = left_bin_polys[left_join]\n",
    "                        right_bin_poly = right_bin_polys[right_join]\n",
    "                        current_tables = tables\n",
    "                        if isinstance(left_bin_poly, BinaryPolynomial):\n",
    "                            current_tables = left_bin_poly.relations.union(current_tables)\n",
    "                        if isinstance(right_bin_poly, BinaryPolynomial):\n",
    "                            current_tables = right_bin_poly.relations.union(current_tables)\n",
    "                        if current_tables == set(query_graph.nodes):\n",
    "                            finish_early = False\n",
    "                        current_bin_poly = BinaryPolynomial({frozenset([f'{label}_{level}']) : selectivity }, current_tables)\n",
    "                        if isinstance(left_bin_poly, int):\n",
    "                            final_bin_poly += right_bin_poly * current_bin_poly * left_bin_poly\n",
    "                        elif isinstance(right_bin_poly, int):\n",
    "                            final_bin_poly += left_bin_poly * current_bin_poly * right_bin_poly\n",
    "                        else:\n",
    "                            final_bin_poly += left_bin_poly * current_bin_poly * right_bin_poly\n",
    "            \n",
    "            hubo[(left_table, right_table, level)] = final_bin_poly\n",
    "                        \n",
    "    return hubo, finish_early"
   ]
  },
  {
   "cell_type": "code",
   "execution_count": 5,
   "metadata": {},
   "outputs": [],
   "source": [
    "hubo = {}\n",
    "for level in range(len(query_graph.edges) - len(nx.cycle_basis(query_graph))):\n",
    "    hubo, finish_early = recursive_hubo(query_graph, level, hubo)\n",
    "    if finish_early:\n",
    "        break"
   ]
  },
  {
   "cell_type": "code",
   "execution_count": 6,
   "metadata": {},
   "outputs": [
    {
     "name": "stdout",
     "output_type": "stream",
     "text": [
      "100000.0*0_0\n",
      "20000.0*1_0\n",
      "20000000.0*0_1*1_0\n",
      "20000000.0*0_0*1_1\n",
      "\n"
     ]
    }
   ],
   "source": [
    "final_polynomial = BinaryPolynomial({}, set())\n",
    "for key in hubo:\n",
    "    final_polynomial += hubo[key]\n",
    "print(final_polynomial)"
   ]
  },
  {
   "cell_type": "code",
   "execution_count": 7,
   "metadata": {},
   "outputs": [],
   "source": [
    "import dimod\n",
    "\n",
    "# We present level agnostic constraints. We do not impose constraints considering which join should be performed on which level.\n",
    "# The number of needed joins is exactly\n",
    "n_joins = len(query_graph.edges) - len(nx.cycle_basis(query_graph))\n",
    "max_number_of_levels = n_joins\n",
    "# Performing the joins takes at least as many levels as the number of joins if we perform one join per level. \n",
    "# It is possible to perform multiple joins on the same level and we do not impose any constraints regarding that.\n",
    "\n",
    "variables = []\n",
    "for i, join in enumerate(query_graph.edges.data()):\n",
    "    for level in range(max_number_of_levels):\n",
    "        label = int(join[2][\"label\"])\n",
    "        variables.append(f\"{label}_{level}\")\n",
    "# Select exactly number of n_joins variables to be 1\n",
    "combs = dimod.generators.combinations(variables, n_joins, strength=1)"
   ]
  },
  {
   "cell_type": "code",
   "execution_count": 8,
   "metadata": {},
   "outputs": [
    {
     "name": "stdout",
     "output_type": "stream",
     "text": [
      "(1, 0, {'label': '0', 'selectivity': 0.1}) (1, 2, {'label': '1', 'selectivity': 0.2})\n",
      "{('0_0', '1_0'): 2}\n",
      "(1, 0, {'label': '0', 'selectivity': 0.1}) (1, 2, {'label': '1', 'selectivity': 0.2})\n",
      "{('0_0', '1_0'): 2, ('0_1', '1_1'): 2}\n"
     ]
    }
   ],
   "source": [
    "import itertools\n",
    "# Next we encode the constraint that we cannot perform two joins on the same level if they share a table\n",
    "bqm_dict = {}\n",
    "for level in range(max_number_of_levels):\n",
    "    for table in query_graph.nodes():\n",
    "        # Loop over edges adjacent to table\n",
    "        # Access edges with data\n",
    "        joins = query_graph.edges(table, data=True)\n",
    "        for join1, join2 in itertools.combinations(joins, 2):\n",
    "            join1_label = join1[2]['label']\n",
    "            join2_label = join2[2]['label']\n",
    "            print(join1, join2)\n",
    "            bqm_dict[(f\"{join1_label}_{level}\", f\"{join2_label}_{level}\")] = 2\n",
    "            print(bqm_dict)"
   ]
  },
  {
   "cell_type": "code",
   "execution_count": 9,
   "metadata": {},
   "outputs": [],
   "source": [
    "# Besides (unfortunately) we have to introduce auxiliary variables so that\n",
    "# we keep track of the performed joins in total. We are allowed to perform every join only once.\n",
    "\n",
    "join_dict = {}\n",
    "for join in query_graph.edges.data():\n",
    "    label = join[2][\"label\"]\n",
    "    aux_var = f\"{label}_aux\"\n",
    "    vars = [f\"{label}_{level}\" for level in range(max_number_of_levels)]\n",
    "    join_dict[aux_var] = 1\n",
    "    for var in vars:\n",
    "        join_dict[(aux_var, var)] = -2\n",
    "        join_dict[(var,)] = 1\n",
    "    for var1, var2 in itertools.combinations(vars, 2):\n",
    "        join_dict[(var1, var2)] = 2"
   ]
  },
  {
   "cell_type": "code",
   "execution_count": 10,
   "metadata": {},
   "outputs": [],
   "source": [
    "# We should start setting variables true starting from the level 0 and then leaving the upper levels empty if so\n",
    "level_bqm = dimod.BinaryQuadraticModel(dimod.BINARY)\n",
    "strength = 1\n",
    "for level in range(max_number_of_levels):\n",
    "    strength -= level/max_number_of_levels\n",
    "    if level == 0:\n",
    "        vars = [str(join[2][\"label\"]) + \"_\" + str(level) for join in query_graph.edges.data()]\n",
    "        bqm1 = dimod.generators.combinations(vars, max_number_of_levels, strength=1)\n",
    "        level_bqm.update(bqm1)"
   ]
  },
  {
   "cell_type": "code",
   "execution_count": 11,
   "metadata": {},
   "outputs": [
    {
     "name": "stdout",
     "output_type": "stream",
     "text": [
      "{('0_0',): 100000.0, ('1_0',): 20000.0, ('0_1', '1_0'): 20000000.0, ('0_0', '1_1'): 20000000.0}\n",
      "BinaryPolynomial({frozenset({'0_0'}): 0.005, frozenset({'1_0'}): 0.001, frozenset({'0_1', '1_0'}): 1.0, frozenset({'0_0', '1_1'}): 1.0}, 'BINARY')\n"
     ]
    }
   ],
   "source": [
    "import dimod\n",
    "\n",
    "def binary_polynomial_to_dict(binary_polynomial):\n",
    "    res = {}\n",
    "    for key in binary_polynomial.binary_variables.keys():\n",
    "        if type(key) == str:\n",
    "            res[tuple([key])] = binary_polynomial.binary_variables[key]\n",
    "        res[tuple(key)] = binary_polynomial.binary_variables[key]\n",
    "    return res\n",
    "\n",
    "hubo_dict = binary_polynomial_to_dict(final_polynomial)\n",
    "print(hubo_dict)\n",
    "#hubo_dict = {}\n",
    "hubo = dimod.BinaryPolynomial(hubo_dict, dimod.BINARY)\n",
    "hubo.normalize()\n",
    "print(hubo)\n",
    "\n",
    "B = 2\n",
    "for key in combs.linear:\n",
    "    k = tuple([key])\n",
    "    if k in hubo:\n",
    "        hubo[k] += B*combs.linear[key]\n",
    "    else:\n",
    "        hubo[k] = B*combs.linear[key]\n",
    "        \n",
    "for key in combs.quadratic:\n",
    "    if key in hubo:\n",
    "        hubo[key] += B*combs.quadratic[key]\n",
    "    else:\n",
    "        hubo[key] = B*combs.quadratic[key]\n",
    "        \n",
    "for key in level_bqm.linear:\n",
    "    k = tuple([key])\n",
    "    if k in hubo:\n",
    "        hubo[k] += B*combs.linear[key]\n",
    "    else:\n",
    "        hubo[k] = B*combs.linear[key]\n",
    "        \n",
    "for key in level_bqm.quadratic:\n",
    "    if key in hubo:\n",
    "        hubo[key] += B*combs.quadratic[key]\n",
    "    else:\n",
    "        hubo[key] = B*combs.quadratic[key]\n",
    "\n",
    "for key in bqm_dict:\n",
    "    if key in hubo:\n",
    "        hubo[key] += B*bqm_dict[key]\n",
    "    else:\n",
    "        hubo[key] = B*bqm_dict[key]\n",
    "        \n",
    "for key in join_dict:\n",
    "    if type(key) == str:\n",
    "        k = tuple([key])\n",
    "        if k in hubo:\n",
    "            hubo[k] += B*join_dict[key]\n",
    "        else:\n",
    "            hubo[k] = B*join_dict[key]\n",
    "    else:\n",
    "        if key in hubo:\n",
    "            hubo[key] += B*join_dict[key]\n",
    "        else:\n",
    "            hubo[key] = B*join_dict[key]\n",
    "        \n",
    "#print(hubo)"
   ]
  },
  {
   "cell_type": "code",
   "execution_count": 12,
   "metadata": {},
   "outputs": [
    {
     "name": "stdout",
     "output_type": "stream",
     "text": [
      "BinaryPolynomial({frozenset({'0_0'}): -9.995000000000001, frozenset({'1_0'}): -9.998999999999999, frozenset({'0_1', '1_0'}): 5.0, frozenset({'0_0', '1_1'}): 5.0, frozenset({'0_1'}): -4.0, frozenset({'1_1'}): -4.0, frozenset({'0_0', '0_1'}): 8.0, frozenset({'0_0', '1_0'}): 12.0, frozenset({'0_1', '1_1'}): 8.0, frozenset({'1_1', '1_0'}): 8.0, frozenset({'0_aux'}): 2, frozenset({'0_0', '0_aux'}): -4, frozenset({'0_aux', '0_1'}): -4, frozenset({'1_aux'}): 2, frozenset({'1_aux', '1_0'}): -4, frozenset({'1_aux', '1_1'}): -4}, 'BINARY')\n",
      "-12.998999999999999\n",
      "0_1\n",
      "1_0\n"
     ]
    }
   ],
   "source": [
    "# Solve with polysolver\n",
    "print(hubo)\n",
    "sampleset = dimod.ExactPolySolver().sample_poly(hubo)\n",
    "print(sampleset.first.energy)\n",
    "for var, value in sampleset.first.sample.items():\n",
    "    if value == 1 and \"aux\" not in var:\n",
    "        print(var)"
   ]
  }
 ],
 "metadata": {
  "kernelspec": {
   "display_name": "Python 3",
   "language": "python",
   "name": "python3"
  },
  "language_info": {
   "codemirror_mode": {
    "name": "ipython",
    "version": 3
   },
   "file_extension": ".py",
   "mimetype": "text/x-python",
   "name": "python",
   "nbconvert_exporter": "python",
   "pygments_lexer": "ipython3",
   "version": "3.10.8"
  }
 },
 "nbformat": 4,
 "nbformat_minor": 2
}
