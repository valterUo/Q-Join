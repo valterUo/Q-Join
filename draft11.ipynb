{
 "cells": [
  {
   "cell_type": "code",
   "execution_count": 1,
   "metadata": {},
   "outputs": [
    {
     "name": "stdout",
     "output_type": "stream",
     "text": [
      "4\n"
     ]
    },
    {
     "data": {
      "image/png": "[encoded data removed]",
      "text/plain": [
       "<Figure size 432x288 with 1 Axes>"
      ]
     },
     "metadata": {},
     "output_type": "display_data"
    }
   ],
   "source": [
    "import networkx as nx\n",
    "import matplotlib.pyplot as plt\n",
    "\n",
    "from networkx.algorithms.tree.mst import SpanningTreeIterator\n",
    "\n",
    "from itertools import product\n",
    "\n",
    "from query_graphs.query_graphs import QueryGraphs\n",
    "\n",
    "query_graph = QueryGraphs().get_graph_7(4)\n",
    "query_graph = QueryGraphs().get_graph_8(5)\n",
    "#query_graph = nx.path_graph(10)\n",
    "\n",
    "n_joins = len(query_graph.edges) - len(nx.cycle_basis(query_graph))\n",
    "max_number_of_levels = n_joins\n",
    "print(max_number_of_levels)\n",
    "levels = range(max_number_of_levels)\n",
    "variables = set()\n",
    "tables = query_graph.nodes()\n",
    "query_graph.add_edge(1,2)\n",
    "\n",
    "#cardinality = {}\n",
    "#for node in query_graph.nodes(data=True):\n",
    "#    cardinality[node[0]] = node[1]['cardinality']\n",
    "\n",
    "#selectivity = {}\n",
    "#for edge in query_graph.edges(data=True):\n",
    "#    selectivity[(edge[0], edge[1])] = edge[2]['selectivity']\n",
    "    \n",
    "nx.draw(query_graph, with_labels=True)"
   ]
  },
  {
   "cell_type": "code",
   "execution_count": 2,
   "metadata": {},
   "outputs": [],
   "source": [
    "import networkx as nx\n",
    "import matplotlib.pyplot as plt\n",
    "from collections import deque\n",
    "from itertools import combinations\n",
    "\n",
    "def get_connected_subgraphs_dfs(graph, node, n):\n",
    "    connected_subgraphs = set()\n",
    "    \n",
    "    # Function to perform DFS to find connected subgraphs of size n\n",
    "    def dfs(start_node, path):\n",
    "        \n",
    "        if len(path) == n + 1:\n",
    "            connected_subgraphs.add(tuple(path))\n",
    "            return\n",
    "        \n",
    "        for r in range(1, n - len(path) + 2):\n",
    "            for neighbors_combination in combinations(graph.neighbors(start_node), r):\n",
    "                for neighbor in neighbors_combination:\n",
    "                    if neighbor not in path:\n",
    "                        dfs(neighbor, path.union(set(neighbors_combination)))\n",
    "    \n",
    "    for r in range(1, n + 1):\n",
    "        for neighbors_combination in combinations(graph.neighbors(node), r):\n",
    "            for neighbor in neighbors_combination:\n",
    "                dfs(neighbor, set(list(neighbors_combination) + [node]))\n",
    "    \n",
    "    return connected_subgraphs"
   ]
  },
  {
   "cell_type": "code",
   "execution_count": 3,
   "metadata": {},
   "outputs": [],
   "source": [
    "class Variable:\n",
    "    \n",
    "    def __init__(self, query_graph, subgraphs, rel1, rel2, level, base_labelings):\n",
    "        self.query_graph = query_graph\n",
    "        self.subgraphs = subgraphs\n",
    "        self.level = level\n",
    "        self.local_cost = 0\n",
    "        self.labelings = []\n",
    "        for base_labeling in base_labelings:\n",
    "            self.labelings.append(base_labeling + [(rel1, rel2, level)])\n",
    "        self.rel1 = rel1\n",
    "        self.rel2 = rel2\n",
    "        \n",
    "    def get_labelings(self):\n",
    "        return self.labelings\n",
    "    \n",
    "    def __str__(self) -> str:\n",
    "        return f'Variable({self.rel1}, {self.rel2}, {self.level}) with labelings {self.labelings} and local cost {self.local_cost}'"
   ]
  },
  {
   "cell_type": "code",
   "execution_count": 4,
   "metadata": {},
   "outputs": [],
   "source": [
    "variables = {}\n",
    "#all_connected_subgraphs = set()\n",
    "\n",
    "for level in levels:\n",
    "    for edge in query_graph.edges(data=True):\n",
    "        \n",
    "        if level == 0:\n",
    "            subgraph = frozenset([edge[0], edge[1]])\n",
    "            variables[subgraph] = Variable(query_graph, subgraph, edge[0], edge[1], level, [[]])\n",
    "        else:\n",
    "            join1 = edge[0]\n",
    "            join2 = edge[1]\n",
    "            \n",
    "            query_graph_copy = query_graph.copy()\n",
    "            edge_to_remove = (join1, join2)\n",
    "            query_graph_copy.remove_edge(*edge_to_remove)\n",
    "            \n",
    "            connected_subgraphs = get_connected_subgraphs_dfs(query_graph_copy, join1, level)\n",
    "            connected_subgraphs = connected_subgraphs.union(get_connected_subgraphs_dfs(query_graph_copy, join2, level))\n",
    "            \n",
    "            #print(\"Join: \", edge)\n",
    "            #print(\"Level: \", level)\n",
    "            #print(connected_subgraphs)\n",
    "            #all_connected_subgraphs = all_connected_subgraphs.union(connected_subgraphs)\n",
    "            \n",
    "            for subgraph in connected_subgraphs:\n",
    "                new_subgraph = frozenset(subgraph + (join1, join2))\n",
    "                subgraph = frozenset(subgraph)\n",
    "                #print(variables)\n",
    "                variables[new_subgraph] = Variable(query_graph, subgraph, join1, join2, level, variables[subgraph].get_labelings())"
   ]
  },
  {
   "cell_type": "code",
   "execution_count": 5,
   "metadata": {},
   "outputs": [
    {
     "name": "stdout",
     "output_type": "stream",
     "text": [
      "frozenset({0, 3})\n",
      "Variable(0, 3, 0) with labelings [[(0, 3, 0)]] and local cost 0\n",
      "frozenset({0, 4})\n",
      "Variable(0, 4, 0) with labelings [[(0, 4, 0)]] and local cost 0\n",
      "frozenset({1, 3})\n",
      "Variable(1, 3, 0) with labelings [[(1, 3, 0)]] and local cost 0\n",
      "frozenset({1, 2})\n",
      "Variable(1, 2, 0) with labelings [[(1, 2, 0)]] and local cost 0\n",
      "frozenset({2, 3})\n",
      "Variable(2, 3, 0) with labelings [[(2, 3, 0)]] and local cost 0\n",
      "frozenset({0, 2, 3})\n",
      "Variable(2, 3, 1) with labelings [[(0, 3, 0), (2, 3, 1)]] and local cost 0\n",
      "frozenset({0, 1, 3})\n",
      "Variable(1, 3, 1) with labelings [[(0, 3, 0), (1, 3, 1)]] and local cost 0\n",
      "frozenset({0, 3, 4})\n",
      "Variable(0, 4, 1) with labelings [[(0, 3, 0), (0, 4, 1)]] and local cost 0\n",
      "frozenset({1, 2, 3})\n",
      "Variable(2, 3, 2) with labelings [[(1, 3, 0), (2, 3, 1), (1, 3, 2), (1, 2, 2), (2, 3, 2)]] and local cost 0\n",
      "frozenset({0, 1, 2, 3})\n",
      "Variable(2, 3, 3) with labelings [[(0, 3, 0), (1, 3, 1), (2, 3, 2), (1, 3, 3), (1, 2, 3), (2, 3, 3)]] and local cost 0\n",
      "frozenset({0, 1, 3, 4})\n",
      "Variable(1, 3, 2) with labelings [[(0, 3, 0), (0, 4, 1), (1, 3, 2)]] and local cost 0\n",
      "frozenset({0, 2, 3, 4})\n",
      "Variable(2, 3, 2) with labelings [[(0, 3, 0), (0, 4, 1), (2, 3, 2)]] and local cost 0\n",
      "frozenset({0, 1, 2, 3, 4})\n",
      "Variable(2, 3, 3) with labelings [[(0, 3, 0), (0, 4, 1), (1, 3, 2), (2, 3, 3)]] and local cost 0\n"
     ]
    }
   ],
   "source": [
    "for v in variables:\n",
    "    print(v)\n",
    "    print(variables[v])"
   ]
  }
 ],
 "metadata": {
  "kernelspec": {
   "display_name": "Python 3",
   "language": "python",
   "name": "python3"
  },
  "language_info": {
   "codemirror_mode": {
    "name": "ipython",
    "version": 3
   },
   "file_extension": ".py",
   "mimetype": "text/x-python",
   "name": "python",
   "nbconvert_exporter": "python",
   "pygments_lexer": "ipython3",
   "version": "3.10.8"
  }
 },
 "nbformat": 4,
 "nbformat_minor": 2
}
