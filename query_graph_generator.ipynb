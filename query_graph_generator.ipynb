{
 "cells": [
  {
   "cell_type": "markdown",
   "id": "7835a2c0-f447-46ce-9baf-4e215f5eddf5",
   "metadata": {},
   "source": [
    "# Query graph generator"
   ]
  },
  {
   "cell_type": "markdown",
   "id": "d7496900-f6b1-40f4-bbab-88cde94096eb",
   "metadata": {},
   "source": [
    "This code generates query graphs in similar manner as described in the paper _[Adaptive Optimization of Very Large Join Queries](https://dl.acm.org/doi/pdf/10.1145/3183713.3183733)_ and in _[Heuristic and Randomized Optimization for the Join Ordering Problem](https://link.springer.com/content/pdf/10.1007/s007780050040.pdf)_. Relations in the database are simply modelled as positive integers which is the default for networkx. Besides the graph, we create cardinality distribution over the relations in the query. This distribution is given as a list of positive integers where the cardinality stored in the list index $i$, corresponds to the table $i$ in the graph.\n",
    "\n",
    "TODO benchmarks: TPC-H, TPC-DS, LDBC, JOB, SQLite"
   ]
  },
  {
   "cell_type": "markdown",
   "id": "f318ad32-c9e1-4e6d-84f0-00792f0ece36",
   "metadata": {},
   "source": [
    "## Synthetic workloads"
   ]
  },
  {
   "cell_type": "markdown",
   "id": "bdd3bd97-444e-49f4-8ec5-652e988ac9f9",
   "metadata": {},
   "source": [
    "We generate larger synthetic workloads. This generation process follows the idea from the paper _[Adaptive Optimization of Very Large Join Queries](https://dl.acm.org/doi/pdf/10.1145/3183713.3183733)_. Besides, chain, star, cycle and grid query graphs, we generate complete graphs which demonstrate the hardest case to optimize. Complete query graphs have not been considered in research as far as we know. "
   ]
  },
  {
   "cell_type": "code",
   "execution_count": 1,
   "id": "90edbb35-008b-44b4-82b0-698c36480281",
   "metadata": {},
   "outputs": [],
   "source": [
    "import networkx as nx\n",
    "from networkx.readwrite import json_graph\n",
    "import json\n",
    "import numpy as np\n",
    "import itertools\n",
    "import matplotlib\n",
    "matplotlib.use(\"Agg\")\n",
    "import matplotlib.pyplot as plt\n",
    "import os\n",
    "notebook_path = os.path.abspath(\"query_graph_generator.ipynb\")"
   ]
  },
  {
   "cell_type": "code",
   "execution_count": 2,
   "id": "c621255f-1edb-40a6-851b-b2cf1181c040",
   "metadata": {},
   "outputs": [],
   "source": [
    "def generate_query_graph(n, rel_size_scale, graph_type):\n",
    "    query_graph = None\n",
    "    if graph_type == \"cycle\":\n",
    "        query_graph = nx.cycle_graph(n)\n",
    "    elif graph_type == \"chain\":\n",
    "        query_graph = nx.path_graph(n)\n",
    "    elif graph_type == \"grid\":\n",
    "        dim = int(np.floor(np.sqrt(n)))\n",
    "        query_graph = nx.grid_2d_graph(dim, dim)\n",
    "    elif graph_type == \"complete\":\n",
    "        query_graph = nx.complete_graph(n)\n",
    "    elif graph_type == \"star\":\n",
    "        query_graph = nx.star_graph(n)\n",
    "            \n",
    "    rel_dist = np.random.random_sample(size=n)\n",
    "    rel_dist = [int(np.ceil(value*rel_size_scale)) for value in rel_dist]\n",
    "    return query_graph, rel_dist"
   ]
  },
  {
   "cell_type": "markdown",
   "id": "b90bfcea-4a77-44df-934b-11ca4eeb8fbf",
   "metadata": {},
   "source": [
    "Example:"
   ]
  },
  {
   "cell_type": "code",
   "execution_count": 3,
   "id": "aa78c86d-07c8-4465-80f0-421f58bae0c1",
   "metadata": {},
   "outputs": [
    {
     "name": "stdout",
     "output_type": "stream",
     "text": [
      "Cardinality distribution:  [78, 741, 409, 121]\n"
     ]
    }
   ],
   "source": [
    "G, distribution = generate_query_graph(4, 1000, \"complete\")\n",
    "print(\"Cardinality distribution: \", distribution)\n",
    "nx.draw(G, with_labels=True, font_weight='bold')"
   ]
  },
  {
   "cell_type": "code",
   "execution_count": 4,
   "id": "d621cfe4-1092-4c3e-9f0d-8f5491a9448a",
   "metadata": {},
   "outputs": [
    {
     "name": "stderr",
     "output_type": "stream",
     "text": [
      "C:\\Users\\valte\\AppData\\Local\\Temp\\ipykernel_11192\\3845097025.py:6: RuntimeWarning: More than 20 figures have been opened. Figures created through the pyplot interface (`matplotlib.pyplot.figure`) are retained until explicitly closed and may consume too much memory. (To control this warning, see the rcParam `figure.max_open_warning`).\n",
      "  f = plt.figure(figsize=(10*n,10*n))\n"
     ]
    }
   ],
   "source": [
    "graph_types = [\"cycle\", \"chain\", \"grid\", \"complete\", \"star\"]\n",
    "\n",
    "for ty in graph_types:\n",
    "    for n in range(2, 11):\n",
    "        G, distribution = generate_query_graph(2**n, 1000000, ty)\n",
    "        f = plt.figure(figsize=(10*n,10*n))\n",
    "        nx.draw(G, with_labels=True, font_weight='bold')\n",
    "        graph_image_path = os.path.join(os.path.dirname(notebook_path), \"data/\" + ty + \"/\" + str(n) + \"/graph-\" + str(n) + \".png\")\n",
    "        f.savefig(graph_image_path)\n",
    "        json_file_path = os.path.join(os.path.dirname(notebook_path), \"data/\" + ty + \"/\" + str(n) + \"/graph-\" + str(n) + \".json\")\n",
    "        graph_data = json_graph.node_link_data(G)\n",
    "        with open(json_file_path, 'w') as graph_file:\n",
    "            json.dump({'name': ty + \"-graph-\" + str(n), 'cardinality_distribution': distribution, 'graph': graph_data}, graph_file)"
   ]
  },
  {
   "cell_type": "code",
   "execution_count": null,
   "id": "54541fbd-1049-40ac-a1c0-648f24d09c3a",
   "metadata": {},
   "outputs": [],
   "source": []
  }
 ],
 "metadata": {
  "kernelspec": {
   "display_name": "Python 3 (ipykernel)",
   "language": "python",
   "name": "python3"
  },
  "language_info": {
   "codemirror_mode": {
    "name": "ipython",
    "version": 3
   },
   "file_extension": ".py",
   "mimetype": "text/x-python",
   "name": "python",
   "nbconvert_exporter": "python",
   "pygments_lexer": "ipython3",
   "version": "3.10.2"
  }
 },
 "nbformat": 4,
 "nbformat_minor": 5
}
