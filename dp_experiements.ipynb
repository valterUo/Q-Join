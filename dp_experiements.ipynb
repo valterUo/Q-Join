{
 "cells": [
  {
   "cell_type": "code",
   "execution_count": 1,
   "metadata": {},
   "outputs": [],
   "source": [
    "import json\n",
    "from classical_algorithms.dynamic_programming import dynamic_programming\n",
    "from classical_algorithms.weights_costs import basic_cost\n",
    "from query_graphs.query_graphs import QueryGraphs\n",
    "\n",
    "graph_constructors = QueryGraphs()\n",
    "\n",
    "graph = \"tree\"\n",
    "min_n_nodes = 3\n",
    "max_n_nodes = 12\n",
    "number_of_graphs = 20\n",
    "\n",
    "if graph == \"clique\":\n",
    "    l_query_graphs = [graph_constructors.cliques(i, number_of_graphs) for i in range(min_n_nodes, max_n_nodes + 1)]\n",
    "elif graph == \"star\":\n",
    "    l_query_graphs = [graph_constructors.stars(i, number_of_graphs) for i in range(min_n_nodes, max_n_nodes + 1)]\n",
    "elif graph == \"chain\":\n",
    "    l_query_graphs = [graph_constructors.chains(i, number_of_graphs) for i in range(min_n_nodes, max_n_nodes + 1)]\n",
    "elif graph == \"cycle\":\n",
    "    l_query_graphs = [graph_constructors.cycles(i, number_of_graphs) for i in range(min_n_nodes, max_n_nodes + 1)]\n",
    "elif graph == \"tree\":\n",
    "    l_query_graphs = [graph_constructors.trees(i, number_of_graphs) for i in range(min_n_nodes, max_n_nodes + 1)]\n",
    "elif graph == \"random\":\n",
    "    l_query_graphs = [graph_constructors.randoms(i, number_of_graphs) for i in range(min_n_nodes, max_n_nodes + 1)]\n",
    "\n",
    "i = min_n_nodes\n",
    "for query_graphs in l_query_graphs:\n",
    "    total_cost = 0\n",
    "    for query_graph in query_graphs:\n",
    "        relations = {}\n",
    "        for node in query_graph.nodes(data=True):\n",
    "            relations[node[0]] = node[1]\n",
    "\n",
    "        selectivities = {}\n",
    "        for edge in query_graph.edges(data=True):\n",
    "            selectivities[(edge[0], edge[1])] = edge[2]\n",
    "        \n",
    "        dp_solution = dynamic_programming(relations, selectivities)\n",
    "        cost = basic_cost(dp_solution, relations, selectivities)\n",
    "        total_cost += cost\n",
    "        \n",
    "    path = \"results\\\\DP\\\\\"\n",
    "    with open(path + graph + \"\\\\\" +  graph + \"_\" + str(i) + \".json\", \"w\") as f:\n",
    "        json.dump({\"optimal_cost\": total_cost}, f)\n",
    "    i += 1\n",
    "        "
   ]
  }
 ],
 "metadata": {
  "kernelspec": {
   "display_name": ".venv",
   "language": "python",
   "name": "python3"
  },
  "language_info": {
   "codemirror_mode": {
    "name": "ipython",
    "version": 3
   },
   "file_extension": ".py",
   "mimetype": "text/x-python",
   "name": "python",
   "nbconvert_exporter": "python",
   "pygments_lexer": "ipython3",
   "version": "3.10.11"
  }
 },
 "nbformat": 4,
 "nbformat_minor": 2
}
