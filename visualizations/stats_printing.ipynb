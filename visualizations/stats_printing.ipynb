{
 "cells": [
  {
   "cell_type": "code",
   "execution_count": 1,
   "metadata": {},
   "outputs": [
    {
     "name": "stdout",
     "output_type": "stream",
     "text": [
      "\\begin{tabular}{|l|c|c|c|c|c|c|}\n",
      "\\toprule\n",
      "Graph Type & Nodes & Edges & HUBO Variables & QUBO Variables & HUBO Terms & QUBO Terms \\\\\n",
      "\\midrule\n",
      "     chain &     3 &     2 &             11 &             34 &         11 &         34 \\\\\n",
      "     chain &     4 &     3 &             18 &             83 &         22 &         96 \\\\\n",
      "     chain &     5 &     4 &             32 &            220 &         44 &        260 \\\\\n",
      "     chain &     6 &     5 &             43 &            389 &         66 &        461 \\\\\n",
      "     chain &     7 &     6 &             56 &            663 &        107 &        829 \\\\\n",
      "     chain &     8 &     7 &             70 &           1059 &        155 &       1342 \\\\\n",
      "     chain &     9 &     8 &             95 &           1814 &        232 &       2274 \\\\\n",
      "     chain &    10 &     9 &            113 &           2799 &        371 &       3668 \\\\\n",
      "     chain &    11 &    10 &            133 &           4427 &        530 &       5834 \\\\\n",
      "     chain &    12 &    11 &            154 &           7175 &        700 &       9084 \\\\\n",
      "     chain &    13 &    12 &            177 &          12129 &       1423 &      16687 \\\\\n",
      "     chain &    14 &    13 &            201 &          21293 &       1531 &      25993 \\\\\n",
      "    clique &     3 &     3 &             15 &             57 &         15 &         57 \\\\\n",
      "    clique &     4 &     6 &             34 &            340 &         70 &        454 \\\\\n",
      "    clique &     5 &    10 &             70 &           2850 &        220 &       3300 \\\\\n",
      "    clique &     6 &    15 &            117 &          55833 &       2922 &      66674 \\\\\n",
      "    clique &     7 &    21 &            182 &        2156490 &      62443 &    2404218 \\\\\n",
      "      star &     3 &     2 &             11 &             34 &         11 &         34 \\\\\n",
      "      star &     4 &     3 &             19 &            100 &         25 &        118 \\\\\n",
      "      star &     5 &     4 &             34 &            309 &         66 &        410 \\\\\n",
      "      star &     6 &     5 &             47 &            813 &        188 &       1298 \\\\\n",
      "      star &     7 &     6 &             62 &           2850 &        715 &       5212 \\\\\n",
      "      star &     8 &     7 &             79 &          15228 &       2965 &      26285 \\\\\n",
      "      star &     9 &     8 &            107 &         112226 &      12983 &     161877 \\\\\n",
      "      star &    10 &     9 &            129 &         990411 &      38259 &    1141556 \\\\\n",
      "\\bottomrule\n",
      "\\end{tabular}\n",
      "\n"
     ]
    },
    {
     "name": "stderr",
     "output_type": "stream",
     "text": [
      "C:\\Users\\valte\\AppData\\Local\\Temp\\ipykernel_27124\\768693957.py:44: FutureWarning: In future versions `DataFrame.to_latex` is expected to utilise the base implementation of `Styler.to_latex` for formatting and rendering. The arguments signature may therefore change. It is recommended instead to use `DataFrame.style.to_latex` which also contains additional functionality.\n",
      "  latex_table = df.to_latex(index=False, column_format='|l|' + 'c|' * (len(columns)-1),\n"
     ]
    }
   ],
   "source": [
    "import os\n",
    "import json\n",
    "import pandas as pd\n",
    "from pathlib import Path\n",
    "\n",
    "def extract_graph_type(filename):\n",
    "    graph_types = [\"chain\", \"tree\", \"clique\", \"star\", \"cycle\"]\n",
    "    for graph_type in graph_types:\n",
    "        if graph_type in filename:\n",
    "            return graph_type\n",
    "    return \"unknown\"\n",
    "\n",
    "def load_json_files(folder_path):\n",
    "    data = []\n",
    "    folder = Path(folder_path)\n",
    "    \n",
    "    for json_file in folder.glob(\"*.json\"):\n",
    "        with open(json_file, 'r') as file:\n",
    "            content = json.load(file)\n",
    "            for key, values in content.items():\n",
    "                graph_type = extract_graph_type(json_file.name)\n",
    "                values[\"graph_type\"] = graph_type\n",
    "                data.append(values)\n",
    "    \n",
    "    return data\n",
    "\n",
    "def construct_latex_table(data):\n",
    "    df = pd.DataFrame(data)\n",
    "    columns = [\n",
    "        \"graph_type\", \n",
    "        \"number_of_nodes\", \n",
    "        \"number_of_edges\", \n",
    "        \"hubo_variables\", \n",
    "        \"hubo_terms\", \n",
    "        \"bqm_variables\", \n",
    "        \"bqm_terms\"\n",
    "    ]\n",
    "    \n",
    "    df = df[columns]\n",
    "    \n",
    "    # Group by 'graph_type' and sort each group by 'number_of_nodes'\n",
    "    df = df.sort_values(by=['graph_type', 'number_of_nodes']).reset_index(drop=True)\n",
    "    \n",
    "    latex_table = df.to_latex(index=False, column_format='|l|' + 'c|' * (len(columns)-1), \n",
    "                              header=[\"Graph Type\", \"Nodes\", \"Edges\", \"HUBO Variables\", \"QUBO Variables\",  \"HUBO Terms\", \"QUBO Terms\"])\n",
    "    return latex_table\n",
    "\n",
    "def main(folder_path):\n",
    "    data = load_json_files(folder_path)\n",
    "    latex_table = construct_latex_table(data)\n",
    "    print(latex_table)\n",
    "\n",
    "# Example usage:\n",
    "folder_path = '..\\\\results\\\\precise_2\\\\compute_variable_statistics'\n",
    "main(folder_path)\n"
   ]
  }
 ],
 "metadata": {
  "kernelspec": {
   "display_name": "Python 3",
   "language": "python",
   "name": "python3"
  },
  "language_info": {
   "codemirror_mode": {
    "name": "ipython",
    "version": 3
   },
   "file_extension": ".py",
   "mimetype": "text/x-python",
   "name": "python",
   "nbconvert_exporter": "python",
   "pygments_lexer": "ipython3",
   "version": "3.10.8"
  }
 },
 "nbformat": 4,
 "nbformat_minor": 2
}
