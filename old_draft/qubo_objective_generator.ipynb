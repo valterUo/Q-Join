{
 "cells": [
  {
   "cell_type": "markdown",
   "id": "0f507faf-ba67-481e-a515-14b538def8b5",
   "metadata": {},
   "source": [
    "# QUBO objective function generator"
   ]
  },
  {
   "cell_type": "code",
   "execution_count": null,
   "id": "729e4799-f385-4973-847e-63faf2d89c6e",
   "metadata": {},
   "outputs": [],
   "source": []
  }
 ],
 "metadata": {
  "kernelspec": {
   "display_name": "Python 3 (ipykernel)",
   "language": "python",
   "name": "python3"
  },
  "language_info": {
   "codemirror_mode": {
    "name": "ipython",
    "version": 3
   },
   "file_extension": ".py",
   "mimetype": "text/x-python",
   "name": "python",
   "nbconvert_exporter": "python",
   "pygments_lexer": "ipython3",
   "version": "3.10.2"
  }
 },
 "nbformat": 4,
 "nbformat_minor": 5
}
