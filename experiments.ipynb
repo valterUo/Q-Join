{
 "cells": [
  {
   "cell_type": "code",
   "execution_count": null,
   "metadata": {},
   "outputs": [
    {
     "name": "stdout",
     "output_type": "stream",
     "text": [
      "JAX not found.\n",
      "JAX is not installed.\n"
     ]
    }
   ],
   "source": [
    "from query_graphs.query_graphs import QueryGraphs\n",
    "from QJoin import QJoin\n",
    "from solver import Solver\n",
    "\n",
    "graph_constructors = QueryGraphs()\n",
    "\n",
    "graph = \"clique\"\n",
    "method_name = \"heuristic_1\"\n",
    "min_n_nodes = 11\n",
    "max_n_nodes = 60\n",
    "number_of_graphs = 20\n",
    "solvers = [\"exact_poly_solver\", \"gurobi\", \"dwave_LeapHybridSampler\", \"dwave_DWaveSampler\", \"simulated_annealing\", \"tabu_sampler\"]\n",
    "solver_name = solvers[1]\n",
    "\n",
    "\n",
    "if graph == \"clique\":\n",
    "    l_query_graphs = [graph_constructors.cliques(i, number_of_graphs) for i in range(min_n_nodes, max_n_nodes + 1)]\n",
    "elif graph == \"star\":\n",
    "    l_query_graphs = [graph_constructors.stars(i, number_of_graphs) for i in range(min_n_nodes, max_n_nodes + 1)]\n",
    "elif graph == \"chain\":\n",
    "    l_query_graphs = [graph_constructors.chains(i, number_of_graphs) for i in range(min_n_nodes, max_n_nodes + 1)]\n",
    "elif graph == \"cycle\":\n",
    "    l_query_graphs = [graph_constructors.cycles(i, number_of_graphs) for i in range(min_n_nodes, max_n_nodes + 1)]\n",
    "elif graph == \"tree\":\n",
    "    l_query_graphs = [graph_constructors.trees(i, number_of_graphs) for i in range(min_n_nodes, max_n_nodes + 1)]\n",
    "elif graph == \"random\":\n",
    "    l_query_graphs = [graph_constructors.randoms(i, number_of_graphs) for i in range(min_n_nodes, max_n_nodes + 1)]\n",
    "\n",
    "i = min_n_nodes\n",
    "for query_graphs in l_query_graphs:\n",
    "    \n",
    "    hubo_to_bqm_strength = 100\n",
    "    scaler = 1\n",
    "    estimation_size = 1\n",
    "    \n",
    "    experiment_name = \"results//\" + method_name + \"//\" + solver_name + \"//\" + graph + \"//\" + solver_name + \"_\" +\\\n",
    "        graph + \"_\" + str(i) + \"_\" + str(scaler) + \"_\" +\\\n",
    "        str(hubo_to_bqm_strength) + \"_\" + str(estimation_size)\n",
    "        \n",
    "    \n",
    "    create_bqm = True\n",
    "    if solver_name == \"exact_poly_solver\":\n",
    "        create_bqm = False\n",
    "    \n",
    "    for query_graph in query_graphs:\n",
    "        qjoin = QJoin(query_graph,\n",
    "                      graph,\n",
    "                    scaler, \n",
    "                    hubo_to_bqm_strength, \n",
    "                    method_name = method_name, \n",
    "                    create_bqm = create_bqm, \n",
    "                    estimation_size = estimation_size)\n",
    "        solver = Solver(qjoin, experiment_name + \".json\", method_name)\n",
    "        res = solver.solve(solver_name)\n",
    "    i += 1"
   ]
  }
 ],
 "metadata": {
  "kernelspec": {
   "display_name": ".venv",
   "language": "python",
   "name": "python3"
  },
  "language_info": {
   "codemirror_mode": {
    "name": "ipython",
    "version": 3
   },
   "file_extension": ".py",
   "mimetype": "text/x-python",
   "name": "python",
   "nbconvert_exporter": "python",
   "pygments_lexer": "ipython3",
   "version": "3.10.8"
  }
 },
 "nbformat": 4,
 "nbformat_minor": 4
}
