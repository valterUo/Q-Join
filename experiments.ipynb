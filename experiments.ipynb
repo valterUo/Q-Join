{
 "cells": [
  {
   "cell_type": "code",
   "execution_count": 1,
   "metadata": {},
   "outputs": [
    {
     "name": "stderr",
     "output_type": "stream",
     "text": [
      "Warning:  Output names have been modified due to duplicate names or characters invalid in LP format.\n",
      "Default row names c1, c2 ... being created.\n"
     ]
    },
    {
     "name": "stdout",
     "output_type": "stream",
     "text": [
      "JAX not found.\n",
      "JAX is not installed.\n",
      "Number of variables:  4\n",
      "Number of terms in HUBO:  4\n",
      "Creating combinations... 2\n",
      "Number of terms in QUBO:  16\n"
     ]
    },
    {
     "name": "stderr",
     "output_type": "stream",
     "text": [
      "Warning:  Output names have been modified due to duplicate names or characters invalid in LP format.\n",
      "Default row names c1, c2 ... being created.\n"
     ]
    },
    {
     "name": "stdout",
     "output_type": "stream",
     "text": [
      "Number of variables:  9\n",
      "Number of terms in HUBO:  15\n",
      "Creating combinations... 6\n",
      "Number of terms in QUBO:  110\n"
     ]
    },
    {
     "name": "stderr",
     "output_type": "stream",
     "text": [
      "Warning:  Output names have been modified due to duplicate names or characters invalid in LP format.\n",
      "Default row names c1, c2 ... being created.\n"
     ]
    },
    {
     "name": "stdout",
     "output_type": "stream",
     "text": [
      "Number of variables:  15\n",
      "Number of terms in HUBO:  40\n",
      "Creating combinations... 14\n",
      "Number of terms in QUBO:  467\n"
     ]
    },
    {
     "name": "stderr",
     "output_type": "stream",
     "text": [
      "Warning:  Output names have been modified due to duplicate names or characters invalid in LP format.\n",
      "Default row names c1, c2 ... being created.\n"
     ]
    },
    {
     "name": "stdout",
     "output_type": "stream",
     "text": [
      "Number of variables:  22\n",
      "Number of terms in HUBO:  93\n",
      "Creating combinations... 30\n",
      "Number of terms in QUBO:  1408\n",
      "Number of variables:  32\n",
      "Number of terms in HUBO:  222\n",
      "Creating combinations... 72\n"
     ]
    },
    {
     "name": "stderr",
     "output_type": "stream",
     "text": [
      "Warning:  Output names have been modified due to duplicate names or characters invalid in LP format.\n",
      "Default row names c1, c2 ... being created.\n"
     ]
    },
    {
     "name": "stdout",
     "output_type": "stream",
     "text": [
      "Number of terms in QUBO:  6240\n",
      "Number of variables:  30\n",
      "Number of terms in HUBO:  188\n",
      "Creating combinations... 60\n"
     ]
    },
    {
     "name": "stderr",
     "output_type": "stream",
     "text": [
      "Warning:  Output names have been modified due to duplicate names or characters invalid in LP format.\n",
      "Default row names c1, c2 ... being created.\n"
     ]
    },
    {
     "name": "stdout",
     "output_type": "stream",
     "text": [
      "Number of terms in QUBO:  5038\n",
      "Number of variables:  28\n",
      "Number of terms in HUBO:  196\n",
      "Creating combinations... 62\n"
     ]
    },
    {
     "name": "stderr",
     "output_type": "stream",
     "text": [
      "Warning:  Output names have been modified due to duplicate names or characters invalid in LP format.\n",
      "Default row names c1, c2 ... being created.\n"
     ]
    },
    {
     "name": "stdout",
     "output_type": "stream",
     "text": [
      "Number of terms in QUBO:  3452\n",
      "Number of variables:  38\n",
      "Number of terms in HUBO:  240\n",
      "Creating combinations... 60\n"
     ]
    },
    {
     "name": "stderr",
     "output_type": "stream",
     "text": [
      "Warning:  Output names have been modified due to duplicate names or characters invalid in LP format.\n",
      "Default row names c1, c2 ... being created.\n"
     ]
    },
    {
     "name": "stdout",
     "output_type": "stream",
     "text": [
      "Number of terms in QUBO:  3224\n",
      "Number of variables:  44\n",
      "Number of terms in HUBO:  267\n",
      "Creating combinations... 66\n"
     ]
    },
    {
     "name": "stderr",
     "output_type": "stream",
     "text": [
      "Warning:  Output names have been modified due to duplicate names or characters invalid in LP format.\n",
      "Default row names c1, c2 ... being created.\n"
     ]
    },
    {
     "name": "stdout",
     "output_type": "stream",
     "text": [
      "Number of terms in QUBO:  4055\n",
      "Number of variables:  42\n",
      "Number of terms in HUBO:  284\n",
      "Creating combinations... 72\n"
     ]
    },
    {
     "name": "stderr",
     "output_type": "stream",
     "text": [
      "Warning:  Output names have been modified due to duplicate names or characters invalid in LP format.\n",
      "Default row names c1, c2 ... being created.\n"
     ]
    },
    {
     "name": "stdout",
     "output_type": "stream",
     "text": [
      "Number of terms in QUBO:  4547\n"
     ]
    }
   ],
   "source": [
    "from query_graphs.query_graphs import QueryGraphs\n",
    "from QJoin import QJoin\n",
    "from solver import Solver\n",
    "\n",
    "graph_constructors = QueryGraphs()\n",
    "\n",
    "graph = \"tree\"\n",
    "method_name = \"heuristic_1\"\n",
    "min_n_nodes = 3\n",
    "max_n_nodes = 40\n",
    "solver_name = \"gurobi\" #dwave_LeapHybridSampler\n",
    "\n",
    "if graph == \"clique\":\n",
    "    query_graphs = [graph_constructors.clique(i) for i in range(min_n_nodes, max_n_nodes + 1)]\n",
    "elif graph == \"star\":\n",
    "    query_graphs = [graph_constructors.star(i) for i in range(min_n_nodes, max_n_nodes + 1)]\n",
    "elif graph == \"chain\":\n",
    "    query_graphs = [graph_constructors.chain(i) for i in range(min_n_nodes, max_n_nodes + 1)]\n",
    "elif graph == \"cycle\":\n",
    "    query_graphs = [graph_constructors.cycles(i) for i in range(min_n_nodes, max_n_nodes + 1)]\n",
    "elif graph == \"tree\":\n",
    "    query_graphs = [graph_constructors.tree(i) for i in range(min_n_nodes, max_n_nodes + 1)]\n",
    "\n",
    "i = min_n_nodes\n",
    "for query_graph in query_graphs:\n",
    "    \n",
    "    hubo_to_bqm_strength = 2\n",
    "    scaler = 2\n",
    "    estimation_size = 6\n",
    "    \n",
    "    if method_name == \"heuristic_1\" or method_name == \"heuristic_2\":\n",
    "        experiment_name = \"results//\" + method_name + \"//\" + solver_name + \"//\" + graph + \"//\" + solver_name + \"_\" +\\\n",
    "            graph + \"_\" + str(i) + \"_\" + str(scaler) + \"_\" +\\\n",
    "            str(hubo_to_bqm_strength) + \"_\" + str(estimation_size)\n",
    "    else:\n",
    "        experiment_name = \"results//\" + method_name + \"//\" + solver_name + \"//\" + solver_name + \"_\" +\\\n",
    "            graph + \"_\" + str(i) + \"_\" + str(scaler) + \"_\" +\\\n",
    "            str(hubo_to_bqm_strength) + \"_\" + str(estimation_size)\n",
    "        \n",
    "    \n",
    "    create_bqm = True\n",
    "    if solver_name == \"exact_poly_solver\":\n",
    "        create_bqm = False\n",
    "    \n",
    "    qjoin = QJoin(graph, query_graph, scaler, hubo_to_bqm_strength, method_name = method_name, create_bqm = create_bqm, estimation_size = estimation_size)\n",
    "    #qjoin.draw_query_graph(experiment_name + \".png\")\n",
    "    solver = Solver(qjoin, experiment_name + \".json\")\n",
    "    solver.solve(solver_name)\n",
    "    i += 1"
   ]
  }
 ],
 "metadata": {
  "kernelspec": {
   "display_name": "Python 3 (ipykernel)",
   "language": "python",
   "name": "python3"
  },
  "language_info": {
   "codemirror_mode": {
    "name": "ipython",
    "version": 3
   },
   "file_extension": ".py",
   "mimetype": "text/x-python",
   "name": "python",
   "nbconvert_exporter": "python",
   "pygments_lexer": "ipython3",
   "version": "3.10.11"
  }
 },
 "nbformat": 4,
 "nbformat_minor": 4
}
