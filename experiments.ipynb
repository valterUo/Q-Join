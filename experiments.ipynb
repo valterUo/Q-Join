{
 "cells": [
  {
   "cell_type": "code",
   "execution_count": 1,
   "metadata": {},
   "outputs": [
    {
     "name": "stderr",
     "output_type": "stream",
     "text": [
      "Warning:  Output names have been modified due to duplicate names or characters invalid in LP format.\n",
      "Default row names c1, c2 ... being created.\n"
     ]
    },
    {
     "name": "stdout",
     "output_type": "stream",
     "text": [
      "Number of variables:  6\n",
      "Number of terms in HUBO:  9\n",
      "Time for constructing precise cost function:  0.0020036697387695312\n",
      "Number of terms in QUBO:  62\n",
      "Number of variables:  18\n",
      "Number of terms in HUBO:  102\n",
      "Time for constructing precise cost function:  0.002000093460083008\n",
      "Number of terms in QUBO:  3619\n"
     ]
    },
    {
     "name": "stderr",
     "output_type": "stream",
     "text": [
      "Warning:  Output names have been modified due to duplicate names or characters invalid in LP format.\n",
      "Default row names c1, c2 ... being created.\n"
     ]
    },
    {
     "name": "stdout",
     "output_type": "stream",
     "text": [
      "Number of variables:  40\n",
      "Number of terms in HUBO:  1870\n",
      "Time for constructing precise cost function:  0.01902937889099121\n",
      "Number of terms in QUBO:  921675\n"
     ]
    }
   ],
   "source": [
    "from query_graphs.query_graphs import QueryGraphs\n",
    "from QJoin import QJoin\n",
    "from solver import Solver\n",
    "\n",
    "graph_constructors = QueryGraphs()\n",
    "\n",
    "graph = \"clique\"\n",
    "min_n_nodes = 3\n",
    "max_n_nodes = 5\n",
    "\n",
    "solver_name = \"gurobi\"\n",
    "approximation = False\n",
    "experiment_name = \"results//\" + solver_name + \"_\" + graph + \"_\" + str(min_n_nodes) + \"_\" + str(max_n_nodes) + \"_\" + \"precise\" + \".json\"\n",
    "hubo_to_bqm_strength = 2\n",
    "scaler = 100\n",
    "\n",
    "if graph == \"clique\":\n",
    "    # Exact 3 - 4\n",
    "    # Gurobi 3 - 5\n",
    "    query_graphs = [graph_constructors.clique(i) for i in range(min_n_nodes, max_n_nodes + 1)]\n",
    "elif graph == \"star\":\n",
    "    # Exact 3 - 5\n",
    "    query_graphs = [graph_constructors.star(i) for i in range(min_n_nodes, max_n_nodes + 1)]\n",
    "elif graph == \"chain\":\n",
    "    # Exact 3 - 6\n",
    "    query_graphs = [graph_constructors.chain(i) for i in range(min_n_nodes, max_n_nodes + 1)]\n",
    "elif graph == \"cycle\":\n",
    "    # Exact 3 - 5\n",
    "    query_graphs = [graph_constructors.cycles(i) for i in range(min_n_nodes, max_n_nodes + 1)]\n",
    "elif graph == \"tree\":\n",
    "    # Exact 3 - 6\n",
    "    query_graphs = [graph_constructors.tree(i) for i in range(min_n_nodes, max_n_nodes + 1)]\n",
    "\n",
    "for query_graph in query_graphs:\n",
    "    qjoin = QJoin(query_graph, scaler, hubo_to_bqm_strength, approximation)\n",
    "    #qjoin.draw_query_graph(str(query_graph) + \".png\")\n",
    "    solver = Solver(qjoin, experiment_name)\n",
    "    solver.solve(solver_name)"
   ]
  }
 ],
 "metadata": {
  "kernelspec": {
   "display_name": "Python 3",
   "language": "python",
   "name": "python3"
  },
  "language_info": {
   "codemirror_mode": {
    "name": "ipython",
    "version": 3
   },
   "file_extension": ".py",
   "mimetype": "text/x-python",
   "name": "python",
   "nbconvert_exporter": "python",
   "pygments_lexer": "ipython3",
   "version": "3.10.8"
  }
 },
 "nbformat": 4,
 "nbformat_minor": 2
}
