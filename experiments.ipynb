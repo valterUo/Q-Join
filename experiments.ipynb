{
 "cells": [
  {
   "cell_type": "code",
   "execution_count": 1,
   "metadata": {},
   "outputs": [
    {
     "name": "stdout",
     "output_type": "stream",
     "text": [
      "Number of variables:  18\n",
      "Number of terms in HUBO:  102\n",
      "Number of terms in QUBO:  3629\n",
      "Variables: [(1, 2, 1), (1, 3, 2), (0, 1, 0), (0, 1, 2), (0, 2, 0), (2, 3, 2), (0, 3, 0), (1, 2, 2), (1, 3, 0), (2, 3, 0), (0, 1, 1), (0, 2, 1), (0, 3, 1), (1, 2, 0), (1, 3, 1), (2, 3, 1), (0, 2, 2), (0, 3, 2)]\n"
     ]
    },
    {
     "ename": "QuantumFunctionError",
     "evalue": "The lightning.qubit device does not support native computations with autodifferentiation frameworks.",
     "output_type": "error",
     "traceback": [
      "\u001b[1;31m---------------------------------------------------------------------------\u001b[0m",
      "\u001b[1;31mQuantumFunctionError\u001b[0m                      Traceback (most recent call last)",
      "Input \u001b[1;32mIn [1]\u001b[0m, in \u001b[0;36m<module>\u001b[1;34m\u001b[0m\n\u001b[0;32m     48\u001b[0m \u001b[38;5;66;03m#qjoin.draw_query_graph(experiment_name + \".png\")\u001b[39;00m\n\u001b[0;32m     49\u001b[0m solver \u001b[38;5;241m=\u001b[39m Solver(qjoin, experiment_name \u001b[38;5;241m+\u001b[39m \u001b[38;5;124m\"\u001b[39m\u001b[38;5;124m.json\u001b[39m\u001b[38;5;124m\"\u001b[39m)\n\u001b[1;32m---> 50\u001b[0m \u001b[43msolver\u001b[49m\u001b[38;5;241;43m.\u001b[39;49m\u001b[43msolve\u001b[49m\u001b[43m(\u001b[49m\u001b[43msolver_name\u001b[49m\u001b[43m)\u001b[49m\n\u001b[0;32m     51\u001b[0m i \u001b[38;5;241m+\u001b[39m\u001b[38;5;241m=\u001b[39m \u001b[38;5;241m1\u001b[39m\n",
      "File \u001b[1;32mc:\\Users\\valte\\OneDrive - University of Helsinki\\Desktop\\Q-Join\\solver.py:41\u001b[0m, in \u001b[0;36mSolver.solve\u001b[1;34m(self, solver)\u001b[0m\n\u001b[0;32m     38\u001b[0m     \u001b[38;5;28mself\u001b[39m\u001b[38;5;241m.\u001b[39msolve_with_dynamic_programming()\n\u001b[0;32m     40\u001b[0m \u001b[38;5;28;01mif\u001b[39;00m solver \u001b[38;5;241m==\u001b[39m \u001b[38;5;124m\"\u001b[39m\u001b[38;5;124mqaoa_pennylane\u001b[39m\u001b[38;5;124m\"\u001b[39m:\n\u001b[1;32m---> 41\u001b[0m     \u001b[38;5;28;43mself\u001b[39;49m\u001b[38;5;241;43m.\u001b[39;49m\u001b[43msolve_with_QAOA_pennylane\u001b[49m\u001b[43m(\u001b[49m\u001b[43m)\u001b[49m\n\u001b[0;32m     43\u001b[0m \u001b[38;5;28;01mif\u001b[39;00m solver \u001b[38;5;241m==\u001b[39m \u001b[38;5;124m\"\u001b[39m\u001b[38;5;124mdwave_LeapHybridSampler\u001b[39m\u001b[38;5;124m\"\u001b[39m:\n\u001b[0;32m     44\u001b[0m     \u001b[38;5;28mself\u001b[39m\u001b[38;5;241m.\u001b[39msolve_with_dwave(\u001b[38;5;124m\"\u001b[39m\u001b[38;5;124mLeapHybridSampler\u001b[39m\u001b[38;5;124m\"\u001b[39m)\n",
      "File \u001b[1;32mc:\\Users\\valte\\OneDrive - University of Helsinki\\Desktop\\Q-Join\\solver.py:196\u001b[0m, in \u001b[0;36mSolver.solve_with_QAOA_pennylane\u001b[1;34m(self)\u001b[0m\n\u001b[0;32m    195\u001b[0m \u001b[38;5;28;01mdef\u001b[39;00m \u001b[38;5;21msolve_with_QAOA_pennylane\u001b[39m(\u001b[38;5;28mself\u001b[39m):\n\u001b[1;32m--> 196\u001b[0m     quantum_result \u001b[38;5;241m=\u001b[39m \u001b[38;5;28;43mself\u001b[39;49m\u001b[38;5;241;43m.\u001b[39;49m\u001b[43mqjoin\u001b[49m\u001b[38;5;241;43m.\u001b[39;49m\u001b[43msolve_with_qaoa_pennylane\u001b[49m\u001b[43m(\u001b[49m\u001b[43m)\u001b[49m\n\u001b[0;32m    198\u001b[0m     sim_res \u001b[38;5;241m=\u001b[39m {}\n\u001b[0;32m    199\u001b[0m     \u001b[38;5;28;01mfor\u001b[39;00m var \u001b[38;5;129;01min\u001b[39;00m quantum_result[\u001b[38;5;124m\"\u001b[39m\u001b[38;5;124mresult\u001b[39m\u001b[38;5;124m\"\u001b[39m]:\n",
      "File \u001b[1;32mc:\\Users\\valte\\OneDrive - University of Helsinki\\Desktop\\Q-Join\\QJoin.py:500\u001b[0m, in \u001b[0;36mQJoin.solve_with_qaoa_pennylane\u001b[1;34m(self)\u001b[0m\n\u001b[0;32m    498\u001b[0m \u001b[38;5;28;01mdef\u001b[39;00m \u001b[38;5;21msolve_with_qaoa_pennylane\u001b[39m(\u001b[38;5;28mself\u001b[39m):\n\u001b[0;32m    499\u001b[0m     qaoa \u001b[38;5;241m=\u001b[39m QuantumApproximateOptimizationAlgorithm(\u001b[38;5;28mself\u001b[39m\u001b[38;5;241m.\u001b[39mfull_hubo, {})\n\u001b[1;32m--> 500\u001b[0m     \u001b[43mqaoa\u001b[49m\u001b[38;5;241;43m.\u001b[39;49m\u001b[43msolve_with_QAOA_pennylane\u001b[49m\u001b[43m(\u001b[49m\u001b[43m)\u001b[49m\n\u001b[0;32m    501\u001b[0m     \u001b[38;5;28;01mreturn\u001b[39;00m qaoa\u001b[38;5;241m.\u001b[39msamplesets[\u001b[38;5;124m\"\u001b[39m\u001b[38;5;124mqaoa_pennylane\u001b[39m\u001b[38;5;124m\"\u001b[39m]\n",
      "File \u001b[1;32mc:\\Users\\valte\\OneDrive - University of Helsinki\\Desktop\\Q-Join\\qaoa\\qaoa.py:27\u001b[0m, in \u001b[0;36mQuantumApproximateOptimizationAlgorithm.solve_with_QAOA_pennylane\u001b[1;34m(self)\u001b[0m\n\u001b[0;32m     25\u001b[0m start_time \u001b[38;5;241m=\u001b[39m time\u001b[38;5;241m.\u001b[39mtime()\n\u001b[0;32m     26\u001b[0m depth \u001b[38;5;241m=\u001b[39m \u001b[38;5;241m1\u001b[39m\n\u001b[1;32m---> 27\u001b[0m H \u001b[38;5;241m=\u001b[39m \u001b[43mQAOAPennylane\u001b[49m\u001b[43m(\u001b[49m\u001b[38;5;28;43mself\u001b[39;49m\u001b[38;5;241;43m.\u001b[39;49m\u001b[43mbqm\u001b[49m\u001b[43m,\u001b[49m\u001b[43m \u001b[49m\u001b[43mdepth\u001b[49m\u001b[43m)\u001b[49m\n\u001b[0;32m     28\u001b[0m circuit \u001b[38;5;241m=\u001b[39m H\u001b[38;5;241m.\u001b[39mget_circuit()\n\u001b[0;32m     29\u001b[0m offset \u001b[38;5;241m=\u001b[39m H\u001b[38;5;241m.\u001b[39mget_offset()\n",
      "File \u001b[1;32mc:\\Users\\valte\\OneDrive - University of Helsinki\\Desktop\\Q-Join\\qaoa\\qaoa_pennylane.py:21\u001b[0m, in \u001b[0;36mQAOAPennylane.__init__\u001b[1;34m(self, bqm, depth)\u001b[0m\n\u001b[0;32m     18\u001b[0m     \u001b[38;5;28;01mraise\u001b[39;00m \u001b[38;5;167;01mTypeError\u001b[39;00m(\u001b[38;5;124m\"\u001b[39m\u001b[38;5;124mBQM must be of type dimod.BinaryPolynomial or dimod.BinaryQuadraticModel\u001b[39m\u001b[38;5;124m\"\u001b[39m)\n\u001b[0;32m     20\u001b[0m \u001b[38;5;28mself\u001b[39m\u001b[38;5;241m.\u001b[39mvariables \u001b[38;5;241m=\u001b[39m \u001b[38;5;28mlist\u001b[39m(\u001b[38;5;28mself\u001b[39m\u001b[38;5;241m.\u001b[39mbqm\u001b[38;5;241m.\u001b[39mvariables)\n\u001b[1;32m---> 21\u001b[0m \u001b[38;5;28mself\u001b[39m\u001b[38;5;241m.\u001b[39mcircuit, \u001b[38;5;28mself\u001b[39m\u001b[38;5;241m.\u001b[39mprobability_circuit, \u001b[38;5;28mself\u001b[39m\u001b[38;5;241m.\u001b[39mvariables_to_observables, \u001b[38;5;28mself\u001b[39m\u001b[38;5;241m.\u001b[39moffset \u001b[38;5;241m=\u001b[39m \u001b[38;5;28;43mself\u001b[39;49m\u001b[38;5;241;43m.\u001b[39;49m\u001b[43mbqm_to_circuit\u001b[49m\u001b[43m(\u001b[49m\u001b[43m)\u001b[49m\n",
      "File \u001b[1;32mc:\\Users\\valte\\OneDrive - University of Helsinki\\Desktop\\Q-Join\\qaoa\\qaoa_pennylane.py:67\u001b[0m, in \u001b[0;36mQAOAPennylane.bqm_to_circuit\u001b[1;34m(self)\u001b[0m\n\u001b[0;32m     63\u001b[0m     qml\u001b[38;5;241m.\u001b[39mbroadcast(qml\u001b[38;5;241m.\u001b[39mHadamard, wires\u001b[38;5;241m=\u001b[39m\u001b[38;5;28mrange\u001b[39m(n_vars), pattern\u001b[38;5;241m=\u001b[39m\u001b[38;5;124m\"\u001b[39m\u001b[38;5;124msingle\u001b[39m\u001b[38;5;124m\"\u001b[39m)\n\u001b[0;32m     64\u001b[0m     qml\u001b[38;5;241m.\u001b[39mlayer(qaoa_layer, \u001b[38;5;28mself\u001b[39m\u001b[38;5;241m.\u001b[39mdepth, params[\u001b[38;5;241m0\u001b[39m], params[\u001b[38;5;241m1\u001b[39m])\n\u001b[0;32m     66\u001b[0m \u001b[43m\u001b[49m\u001b[38;5;129;43m@qml\u001b[39;49m\u001b[38;5;241;43m.\u001b[39;49m\u001b[43mqnode\u001b[49m\u001b[43m(\u001b[49m\u001b[43mdev\u001b[49m\u001b[43m,\u001b[49m\u001b[43m \u001b[49m\u001b[43mdiff_method\u001b[49m\u001b[38;5;241;43m=\u001b[39;49m\u001b[38;5;124;43m\"\u001b[39;49m\u001b[38;5;124;43mbackprop\u001b[39;49m\u001b[38;5;124;43m\"\u001b[39;49m\u001b[43m)\u001b[49m\n\u001b[1;32m---> 67\u001b[0m \u001b[43m\u001b[49m\u001b[38;5;28;43;01mdef\u001b[39;49;00m\u001b[43m \u001b[49m\u001b[38;5;21;43mcircuit\u001b[39;49m\u001b[43m(\u001b[49m\u001b[43mparams\u001b[49m\u001b[43m)\u001b[49m\u001b[43m:\u001b[49m\n\u001b[0;32m     68\u001b[0m \u001b[43m    \u001b[49m\u001b[43mlayers\u001b[49m\u001b[43m(\u001b[49m\u001b[43mparams\u001b[49m\u001b[43m)\u001b[49m\n\u001b[0;32m     69\u001b[0m \u001b[43m    \u001b[49m\u001b[38;5;28;43;01mreturn\u001b[39;49;00m\u001b[43m \u001b[49m\u001b[43mqml\u001b[49m\u001b[38;5;241;43m.\u001b[39;49m\u001b[43mexpval\u001b[49m\u001b[43m(\u001b[49m\u001b[38;5;28;43mself\u001b[39;49m\u001b[38;5;241;43m.\u001b[39;49m\u001b[43mH_cost\u001b[49m\u001b[43m)\u001b[49m\n",
      "File \u001b[1;32mc:\\Users\\valte\\AppData\\Local\\Programs\\Python\\Python310\\lib\\site-packages\\pennylane\\workflow\\qnode.py:511\u001b[0m, in \u001b[0;36mQNode.__init__\u001b[1;34m(self, func, device, interface, diff_method, expansion_strategy, max_expansion, grad_on_execution, cache, cachesize, max_diff, device_vjp, **gradient_kwargs)\u001b[0m\n\u001b[0;32m    508\u001b[0m \u001b[38;5;28mself\u001b[39m\u001b[38;5;241m.\u001b[39mgradient_kwargs \u001b[38;5;241m=\u001b[39m {}\n\u001b[0;32m    509\u001b[0m \u001b[38;5;28mself\u001b[39m\u001b[38;5;241m.\u001b[39m_tape_cached \u001b[38;5;241m=\u001b[39m \u001b[38;5;28;01mFalse\u001b[39;00m\n\u001b[1;32m--> 511\u001b[0m \u001b[38;5;28;43mself\u001b[39;49m\u001b[38;5;241;43m.\u001b[39;49m\u001b[43m_update_gradient_fn\u001b[49m\u001b[43m(\u001b[49m\u001b[43m)\u001b[49m\n\u001b[0;32m    512\u001b[0m functools\u001b[38;5;241m.\u001b[39mupdate_wrapper(\u001b[38;5;28mself\u001b[39m, func)\n\u001b[0;32m    513\u001b[0m \u001b[38;5;28mself\u001b[39m\u001b[38;5;241m.\u001b[39m_transform_program \u001b[38;5;241m=\u001b[39m qml\u001b[38;5;241m.\u001b[39mtransforms\u001b[38;5;241m.\u001b[39mcore\u001b[38;5;241m.\u001b[39mTransformProgram()\n",
      "File \u001b[1;32mc:\\Users\\valte\\AppData\\Local\\Programs\\Python\\Python310\\lib\\site-packages\\pennylane\\workflow\\qnode.py:580\u001b[0m, in \u001b[0;36mQNode._update_gradient_fn\u001b[1;34m(self, shots)\u001b[0m\n\u001b[0;32m    578\u001b[0m             backprop_devices \u001b[38;5;241m=\u001b[39m \u001b[38;5;28mself\u001b[39m\u001b[38;5;241m.\u001b[39mdevice\u001b[38;5;241m.\u001b[39mcapabilities()\u001b[38;5;241m.\u001b[39mget(\u001b[38;5;124m\"\u001b[39m\u001b[38;5;124mpassthru_devices\u001b[39m\u001b[38;5;124m\"\u001b[39m, \u001b[38;5;28;01mNone\u001b[39;00m)\n\u001b[0;32m    579\u001b[0m             \u001b[38;5;28;01mif\u001b[39;00m backprop_devices \u001b[38;5;129;01mis\u001b[39;00m \u001b[38;5;28;01mNone\u001b[39;00m:\n\u001b[1;32m--> 580\u001b[0m                 \u001b[38;5;28;01mraise\u001b[39;00m qml\u001b[38;5;241m.\u001b[39mQuantumFunctionError(\n\u001b[0;32m    581\u001b[0m                     \u001b[38;5;124mf\u001b[39m\u001b[38;5;124m\"\u001b[39m\u001b[38;5;124mThe \u001b[39m\u001b[38;5;132;01m{\u001b[39;00m\u001b[38;5;28mself\u001b[39m\u001b[38;5;241m.\u001b[39mdevice\u001b[38;5;241m.\u001b[39mshort_name\u001b[38;5;132;01m}\u001b[39;00m\u001b[38;5;124m device does not support native computations with \u001b[39m\u001b[38;5;124m\"\u001b[39m\n\u001b[0;32m    582\u001b[0m                     \u001b[38;5;124m\"\u001b[39m\u001b[38;5;124mautodifferentiation frameworks.\u001b[39m\u001b[38;5;124m\"\u001b[39m\n\u001b[0;32m    583\u001b[0m                 )\n\u001b[0;32m    584\u001b[0m     \u001b[38;5;28;01mreturn\u001b[39;00m\n\u001b[0;32m    586\u001b[0m \u001b[38;5;28mself\u001b[39m\u001b[38;5;241m.\u001b[39mgradient_fn, \u001b[38;5;28mself\u001b[39m\u001b[38;5;241m.\u001b[39mgradient_kwargs, \u001b[38;5;28mself\u001b[39m\u001b[38;5;241m.\u001b[39mdevice \u001b[38;5;241m=\u001b[39m \u001b[38;5;28mself\u001b[39m\u001b[38;5;241m.\u001b[39mget_gradient_fn(\n\u001b[0;32m    587\u001b[0m     \u001b[38;5;28mself\u001b[39m\u001b[38;5;241m.\u001b[39m_original_device, \u001b[38;5;28mself\u001b[39m\u001b[38;5;241m.\u001b[39minterface, \u001b[38;5;28mself\u001b[39m\u001b[38;5;241m.\u001b[39mdiff_method, shots\u001b[38;5;241m=\u001b[39mshots\n\u001b[0;32m    588\u001b[0m )\n",
      "\u001b[1;31mQuantumFunctionError\u001b[0m: The lightning.qubit device does not support native computations with autodifferentiation frameworks."
     ]
    }
   ],
   "source": [
    "import numpy as np\n",
    "from query_graphs.query_graphs import QueryGraphs\n",
    "from QJoin import QJoin\n",
    "from solver import Solver\n",
    "\n",
    "graph_constructors = QueryGraphs()\n",
    "\n",
    "graph = \"clique\"\n",
    "method_name = \"precise\"\n",
    "min_n_nodes = 4\n",
    "max_n_nodes = 4\n",
    "solver_name = \"qaoa_pennylane\"\n",
    "hubo_to_bqm_strengths = [0, 0, 0, 2, 2, 2, 2, 3]\n",
    "scalers = [0, 0, 0, 2, 2, 2, 2, 8]\n",
    "\n",
    "if graph == \"clique\":\n",
    "    # Exact 3 - 4\n",
    "    # Gurobi 3 - 5\n",
    "    query_graphs = [graph_constructors.clique(i) for i in range(min_n_nodes, max_n_nodes + 1)]\n",
    "elif graph == \"star\":\n",
    "    # Exact 3 - 5\n",
    "    # Gurobi 3 - 7\n",
    "    query_graphs = [graph_constructors.star(i) for i in range(min_n_nodes, max_n_nodes + 1)]\n",
    "elif graph == \"chain\":\n",
    "    # Exact 3 - 6\n",
    "    # Gurobi 3 - 12\n",
    "    query_graphs = [graph_constructors.chain(i) for i in range(min_n_nodes, max_n_nodes + 1)]\n",
    "elif graph == \"cycle\":\n",
    "    # Exact 3 - 5\n",
    "    # Gurobi 3 - 9\n",
    "    query_graphs = [graph_constructors.cycles(i) for i in range(min_n_nodes, max_n_nodes + 1)]\n",
    "elif graph == \"tree\":\n",
    "    # Exact 3 - 6\n",
    "    # Gurobi 3 - 9\n",
    "    query_graphs = [graph_constructors.tree(i) for i in range(min_n_nodes, max_n_nodes + 1)]\n",
    "\n",
    "i = min_n_nodes\n",
    "for query_graph in query_graphs:\n",
    "    \n",
    "    hubo_to_bqm_strength = hubo_to_bqm_strengths[i]\n",
    "    scaler = scalers[i]\n",
    "    \n",
    "    experiment_name = \"results//\" + method_name + \"//\" + solver_name + \"//\" + solver_name + \"_\" +\\\n",
    "        graph + \"_\" + str(i) + \"_\" + str(scaler) + \"_\" +\\\n",
    "        str(hubo_to_bqm_strength)\n",
    "    \n",
    "    qjoin = QJoin(query_graph, scaler, hubo_to_bqm_strength)\n",
    "    #qjoin.draw_query_graph(experiment_name + \".png\")\n",
    "    solver = Solver(qjoin, experiment_name + \".json\")\n",
    "    solver.solve(solver_name)\n",
    "    i += 1"
   ]
  }
 ],
 "metadata": {
  "kernelspec": {
   "display_name": "Python 3",
   "language": "python",
   "name": "python3"
  },
  "language_info": {
   "codemirror_mode": {
    "name": "ipython",
    "version": 3
   },
   "file_extension": ".py",
   "mimetype": "text/x-python",
   "name": "python",
   "nbconvert_exporter": "python",
   "pygments_lexer": "ipython3",
   "version": "3.10.8"
  }
 },
 "nbformat": 4,
 "nbformat_minor": 2
}
