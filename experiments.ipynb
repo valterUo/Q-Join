{
 "cells": [
  {
   "cell_type": "code",
   "execution_count": 1,
   "metadata": {},
   "outputs": [
    {
     "name": "stdout",
     "output_type": "stream",
     "text": [
      "Number of variables:  18\n",
      "Number of terms in HUBO:  102\n",
      "Number of terms in QUBO:  3614\n",
      "Variables: [(1, 2, 1), (1, 3, 2), (0, 1, 0), (0, 1, 2), (0, 2, 0), (2, 3, 2), (0, 3, 0), (1, 2, 2), (1, 3, 0), (2, 3, 0), (0, 1, 1), (0, 2, 1), (0, 3, 1), (1, 2, 0), (1, 3, 1), (2, 3, 1), (0, 2, 2), (0, 3, 2)]\n"
     ]
    }
   ],
   "source": [
    "from query_graphs.query_graphs import QueryGraphs\n",
    "from QJoin import QJoin\n",
    "from solver import Solver\n",
    "\n",
    "graph_constructors = QueryGraphs()\n",
    "\n",
    "graph = \"clique\"\n",
    "method_name = \"precise\"\n",
    "min_n_nodes = 3\n",
    "max_n_nodes = 3\n",
    "solver_name = \"qaoa_pennylane\"\n",
    "hubo_to_bqm_strengths = [0, 0, 0, 2, 2, 2, 2, 3]\n",
    "scalers = [0, 0, 0, 2, 2, 2, 2, 8]\n",
    "\n",
    "if graph == \"clique\":\n",
    "    # Exact 3 - 4\n",
    "    # Gurobi 3 - 5\n",
    "    query_graphs = [graph_constructors.clique(i) for i in range(min_n_nodes, max_n_nodes + 1)]\n",
    "elif graph == \"star\":\n",
    "    # Exact 3 - 5\n",
    "    # Gurobi 3 - 7\n",
    "    query_graphs = [graph_constructors.star(i) for i in range(min_n_nodes, max_n_nodes + 1)]\n",
    "elif graph == \"chain\":\n",
    "    # Exact 3 - 6\n",
    "    # Gurobi 3 - 12\n",
    "    query_graphs = [graph_constructors.chain(i) for i in range(min_n_nodes, max_n_nodes + 1)]\n",
    "elif graph == \"cycle\":\n",
    "    # Exact 3 - 5\n",
    "    # Gurobi 3 - 9\n",
    "    query_graphs = [graph_constructors.cycles(i) for i in range(min_n_nodes, max_n_nodes + 1)]\n",
    "elif graph == \"tree\":\n",
    "    # Exact 3 - 6\n",
    "    # Gurobi 3 - 9\n",
    "    query_graphs = [graph_constructors.tree(i) for i in range(min_n_nodes, max_n_nodes + 1)]\n",
    "\n",
    "i = min_n_nodes\n",
    "for query_graph in query_graphs:\n",
    "    \n",
    "    hubo_to_bqm_strength = hubo_to_bqm_strengths[i]\n",
    "    scaler = scalers[i]\n",
    "    \n",
    "    experiment_name = \"results//\" + method_name + \"//\" + solver_name + \"//\" + solver_name + \"_\" +\\\n",
    "        graph + \"_\" + str(i) + \"_\" + str(scaler) + \"_\" +\\\n",
    "        str(hubo_to_bqm_strength)\n",
    "    \n",
    "    qjoin = QJoin(query_graph, scaler, hubo_to_bqm_strength)\n",
    "    #qjoin.draw_query_graph(experiment_name + \".png\")\n",
    "    solver = Solver(qjoin, experiment_name + \".json\")\n",
    "    solver.solve(solver_name)\n",
    "    i += 1"
   ]
  }
 ],
 "metadata": {
  "kernelspec": {
   "display_name": "Python 3 (ipykernel)",
   "language": "python",
   "name": "python3"
  },
  "language_info": {
   "codemirror_mode": {
    "name": "ipython",
    "version": 3
   },
   "file_extension": ".py",
   "mimetype": "text/x-python",
   "name": "python",
   "nbconvert_exporter": "python",
   "pygments_lexer": "ipython3",
   "version": "3.10.12"
  }
 },
 "nbformat": 4,
 "nbformat_minor": 4
}
