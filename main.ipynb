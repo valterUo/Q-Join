{
 "cells": [
  {
   "cell_type": "markdown",
   "id": "3b33e20c-31b1-4e00-8980-8dc864c001d7",
   "metadata": {},
   "source": [
    "# Quantum computing method for join order optimization"
   ]
  },
  {
   "cell_type": "markdown",
   "id": "ef1f825a-704e-4209-b11a-72cc9aa99c0b",
   "metadata": {},
   "source": [
    "Valter Uotila, doctoral researcher, Unified Database Management Systems group, University of Helsinki"
   ]
  },
  {
   "cell_type": "code",
   "execution_count": 1,
   "id": "14e68fcd-1774-43bf-8416-dae31c573588",
   "metadata": {},
   "outputs": [],
   "source": [
    "import networkx as nx\n",
    "import numpy as np\n",
    "import itertools\n",
    "import matplotlib.pyplot as plt\n",
    "import copy\n",
    "from frozendict import frozendict\n",
    "\n",
    "import dimod\n",
    "from dimod.generators.constraints import combinations\n",
    "from dwave.system import LeapHybridSampler\n",
    "from hybrid.reference import KerberosSampler\n",
    "from dwave.system.composites import EmbeddingComposite\n",
    "\n",
    "from braket.aws import AwsDevice\n",
    "from braket.ocean_plugin import BraketSampler, BraketDWaveSampler"
   ]
  },
  {
   "cell_type": "markdown",
   "id": "a9188634-8bf4-4cf3-8003-bc05789f39fb",
   "metadata": {},
   "source": [
    "## Query graph generator"
   ]
  },
  {
   "cell_type": "markdown",
   "id": "9678cc33-e46d-48bf-8298-b750e82cec38",
   "metadata": {},
   "source": [
    "This code generates query graphs in similar manner as described in the paper _[Adaptive Optimization of Very Large Join Queries](https://dl.acm.org/doi/pdf/10.1145/3183713.3183733)_ and in _[Heuristic and Randomized Optimization for the Join Ordering Problem](https://link.springer.com/content/pdf/10.1007/s007780050040.pdf)_. The generated query graphs are stored as json files. Relations in the database are simply modelled as positive integers which is the default for networkx. Besides the graph, we create cardinality distribution over the relations in the query. This distribution is given as a list of positive integers where the cardinality stored in the list index $i$, corresponds to the table $i$ in the graph.\n",
    "\n",
    "TODO benchmarks: TPC-H, TPC-DS, LDBC, JOB, SQLite"
   ]
  },
  {
   "cell_type": "markdown",
   "id": "24ea66fa-0138-484d-a6c5-fb50098b05ab",
   "metadata": {},
   "source": [
    "### Synthetic workloads"
   ]
  },
  {
   "cell_type": "markdown",
   "id": "def2ea67-2fd3-4c54-8f1b-2a4e9e50bf6e",
   "metadata": {},
   "source": [
    "We generate larger synthetic workloads. This generation process follows the idea from the paper _[Adaptive Optimization of Very Large Join Queries](https://dl.acm.org/doi/pdf/10.1145/3183713.3183733)_. Besides, chain, star, cycle and grid query graphs, we generate complete graphs which demonstrate the hardest case to optimize. Complete query graphs have not been considered in research as far as we know. "
   ]
  },
  {
   "cell_type": "code",
   "execution_count": 2,
   "id": "0dd4f204-bed9-44ca-b4ee-bd977df3cccd",
   "metadata": {},
   "outputs": [],
   "source": [
    "def generate_query_graph(start, stop, step, rel_size_scale, graph_type):\n",
    "    for n in range(start, stop, step):\n",
    "        query_graph = None\n",
    "        if graph_type == \"cycle\":\n",
    "            query_graph = nx.cycle_graph(n)\n",
    "        elif graph_type == \"chain\":\n",
    "            query_graph = nx.path_graph(n)\n",
    "        elif graph_type == \"grid\":\n",
    "            query_graph = nx.grid_graph(n, periodic=True)\n",
    "        elif graph_type == \"complete\":\n",
    "            query_graph = nx.complete_graph(n)\n",
    "        elif graph_type == \"star\":\n",
    "            query_graph = nx.star_graph(n)\n",
    "            \n",
    "        rel_dist = np.random.random_sample(size=n)\n",
    "        rel_dist = [int(np.ceil(value*rel_size_scale)) for value in rel_dist]\n",
    "        return query_graph, rel_dist"
   ]
  },
  {
   "cell_type": "code",
   "execution_count": 3,
   "id": "57d9603b-c6d4-43ed-bd91-184ec6496186",
   "metadata": {},
   "outputs": [
    {
     "name": "stdout",
     "output_type": "stream",
     "text": [
      "Cardinality distribution:  [506, 87, 875]\n"
     ]
    },
    {
     "data": {
      "image/png": "[encoded data removed]",
      "text/plain": [
       "<Figure size 432x288 with 1 Axes>"
      ]
     },
     "metadata": {},
     "output_type": "display_data"
    }
   ],
   "source": [
    "G, distribution = generate_query_graph(3, 4, 1, 1000, \"complete\")\n",
    "print(\"Cardinality distribution: \", distribution)\n",
    "nx.draw(G, with_labels=True, font_weight='bold')"
   ]
  },
  {
   "cell_type": "markdown",
   "id": "6f9fc785-a6f5-4e7b-8144-101b8392effd",
   "metadata": {},
   "source": [
    "## Cost function"
   ]
  },
  {
   "cell_type": "code",
   "execution_count": 4,
   "id": "f37f7ba5-8c0b-426e-b044-f8ed32058e8e",
   "metadata": {},
   "outputs": [],
   "source": [
    "def cost(left, right, cardinality_distribution):\n",
    "    return -100"
   ]
  },
  {
   "cell_type": "markdown",
   "id": "6737e5ae-5b05-497e-9bd1-b97d4a9d228d",
   "metadata": {},
   "source": [
    "## Objective function"
   ]
  },
  {
   "cell_type": "markdown",
   "id": "d8f9239d-37a9-411f-8aa7-f4e8e77c71c6",
   "metadata": {},
   "source": [
    "### Transformin query graph into join order graph"
   ]
  },
  {
   "cell_type": "markdown",
   "id": "022c2f16-63c7-456e-a2b5-fef8c6424468",
   "metadata": {},
   "source": [
    "Join order graph is the initial QUBO which encodes query graph and costs. Every set of nodes of every connected subgraph of the query graph corresonds to a variable in the binary quadratic model. Finally, the variables of QUBO problem are the ordered tuples. Cost of joining relations becomes a weight in an edge. In QUBO problem this edge weight corresponds a quadratic bias. At this phase, the linear bias is set to 0."
   ]
  },
  {
   "cell_type": "code",
   "execution_count": 5,
   "id": "5e0a1cb7-0cef-4844-b596-763e5d71cb70",
   "metadata": {},
   "outputs": [],
   "source": [
    "def calculate_joins(var, join_order_graph):\n",
    "    joins = []\n",
    "    res_set = set(var)\n",
    "    for node in join_order_graph.nodes:\n",
    "        left = set(node)\n",
    "        if left.issubset(res_set):\n",
    "            right = tuple(res_set.difference(left))\n",
    "            if right in join_order_graph:\n",
    "                join = (tuple(left), right)\n",
    "                join_inv = (right, tuple(left))\n",
    "                if join not in joins and join_inv not in joins:\n",
    "                    joins.append(join)\n",
    "    return joins\n",
    "\n",
    "def create_join_order_graph(query_graph, cardinality_distribution):\n",
    "    join_order_graph = nx.Graph()\n",
    "    join_order_graph_levels = {1: []}\n",
    "    \n",
    "    for node in query_graph.nodes:\n",
    "        join_order_graph.add_node((node,), linear_bias = 0)\n",
    "        join_order_graph_levels[1].append((node,))\n",
    "\n",
    "    for nb_nodes in range(2, query_graph.number_of_nodes()):\n",
    "        for SG in (query_graph.subgraph(selected_nodes) for selected_nodes in itertools.combinations(query_graph, nb_nodes)):\n",
    "            #if nx.is_connected(SG):\n",
    "                #print(SG.nodes)\n",
    "            var =  tuple(SG.nodes)\n",
    "            if len(var) not in join_order_graph_levels:\n",
    "                join_order_graph_levels[len(var)] = [var]\n",
    "            else:\n",
    "                join_order_graph_levels[len(var)].append(var)\n",
    "\n",
    "            join_order_graph.add_node(var, linear_bias = 0)\n",
    "\n",
    "            joins = calculate_joins(var, join_order_graph)\n",
    "            for join in joins:\n",
    "                left, right = join[0], join[1]\n",
    "                cost_value = cost(left, right, cardinality_distribution)\n",
    "                join_order_graph.add_edge(left, var, quadratic_bias = cost_value)\n",
    "                join_order_graph.add_edge(right, var, quadratic_bias = cost_value)\n",
    "    \n",
    "    final_res = tuple(query_graph.nodes)\n",
    "    join_order_graph_levels[len(final_res)] = [final_res]\n",
    "    join_order_graph.add_node(final_res, linear_bias = 0)\n",
    "    joins = calculate_joins(final_res, join_order_graph)\n",
    "    for join in joins:\n",
    "        left, right = join[0], join[1]\n",
    "        cost_value = cost(left, right, cardinality_distribution)\n",
    "        join_order_graph.add_edge(left, final_res, quadratic_bias = cost_value)\n",
    "        join_order_graph.add_edge(right, final_res, quadratic_bias = cost_value)\n",
    "    \n",
    "    \n",
    "    return join_order_graph, join_order_graph_levels"
   ]
  },
  {
   "cell_type": "markdown",
   "id": "5baacecf-f27e-4988-9451-c0291758c9c6",
   "metadata": {},
   "source": [
    "### Constraint 1: Single tables and the final result are always included in the join order plan"
   ]
  },
  {
   "cell_type": "code",
   "execution_count": 6,
   "id": "2ec7113d-7963-4767-8291-f072164b12db",
   "metadata": {},
   "outputs": [],
   "source": [
    "def constraint1(bqm, query_graph):\n",
    "    for node in query_graph.nodes:\n",
    "        bqm.fix_variable((node,), 1)\n",
    "    bqm.fix_variable(tuple(query_graph.nodes), 1)\n",
    "    return bqm"
   ]
  },
  {
   "cell_type": "markdown",
   "id": "bcee2afc-dff7-4864-9c1f-ba06c0145838",
   "metadata": {
    "tags": []
   },
   "source": [
    "### Constraint 2: Create QUBOs for join order plan tree classes"
   ]
  },
  {
   "cell_type": "markdown",
   "id": "ebc0f6ca-b37c-42a9-9707-ac09764e0756",
   "metadata": {},
   "source": [
    "This constraint produces QUBO problem for each join order tree class."
   ]
  },
  {
   "cell_type": "code",
   "execution_count": 7,
   "id": "a7c83207-126a-4196-8f15-9359f728b1b8",
   "metadata": {},
   "outputs": [],
   "source": [
    "def calculate_join_order_tree_levels(relations):\n",
    "    results = []\n",
    "    new_rels = []\n",
    "    if len(relations) < 2:\n",
    "        return relations\n",
    "    for i in range(0, len(relations), 2):\n",
    "        if i + 1 >= len(relations):\n",
    "            return results\n",
    "        new_rel = (relations[i], relations[i + 1])\n",
    "        new_rels.append(new_rel)\n",
    "        results += calculate_join_order_tree_levels(new_rels + relations[i + 2:])\n",
    "    return results"
   ]
  },
  {
   "cell_type": "code",
   "execution_count": 8,
   "id": "b6d99323-1c84-40a2-b3dc-a3395d26b218",
   "metadata": {},
   "outputs": [],
   "source": [
    "join_order_trees = calculate_join_order_tree_levels(list(range(20)))"
   ]
  },
  {
   "cell_type": "code",
   "execution_count": 9,
   "id": "d6b4ddb4-c211-486c-9d96-2d94d28dc3e0",
   "metadata": {},
   "outputs": [],
   "source": [
    "def merge(dict1, dict2):\n",
    "    for key in dict1:\n",
    "        if key in dict2:\n",
    "            dict2[key] += dict1[key]\n",
    "        else:\n",
    "            dict2[key] = dict1[key]\n",
    "    return dict2\n",
    "\n",
    "def count(lst):\n",
    "    n = 0\n",
    "    for i in lst:\n",
    "        if type(i) is tuple:\n",
    "            n += count(i)\n",
    "        else:\n",
    "            n += 1\n",
    "    return n\n",
    "\n",
    "def count_levels(join_order_tree):\n",
    "    result = {}\n",
    "    count_value = count(join_order_tree)\n",
    "    result[count_value] = 1\n",
    "    left, right = join_order_tree[0], join_order_tree[1]\n",
    "    if type(left) == tuple:\n",
    "        result1 = count_levels(left)\n",
    "        result = merge(result, result1)\n",
    "    if type(right) == tuple:\n",
    "        result2 = count_levels(right)\n",
    "        result = merge(result, result2)\n",
    "    return result"
   ]
  },
  {
   "cell_type": "code",
   "execution_count": 10,
   "id": "ee316a60-1152-45ef-b0d6-7b93ed42b944",
   "metadata": {},
   "outputs": [],
   "source": [
    "#for tree in join_order_trees:\n",
    "#    print(tree)\n",
    "#    print(count_levels(tree))\n",
    "#    print()"
   ]
  },
  {
   "cell_type": "code",
   "execution_count": 11,
   "id": "e3ac7d1b-86d9-4fd1-8e0a-24831fa275b8",
   "metadata": {},
   "outputs": [],
   "source": [
    "def constraint2(bqm, query_graph, join_order_tree_levels, tree_class):\n",
    "    print(tree_class)\n",
    "    for level in join_order_tree_levels:\n",
    "        if not level == 1 and not int(level) == len(query_graph.nodes):\n",
    "            bqm_c2 = None\n",
    "            if level in tree_class:\n",
    "                print(join_order_tree_levels[level], tree_class[level])\n",
    "                bqm_c2 = dimod.generators.combinations(join_order_tree_levels[level], tree_class[level], strength=3000.0)\n",
    "                bqm.update(bqm_c2)\n",
    "                if tree_class[level] > 1:\n",
    "                    for elem in list(itertools.combinations(join_order_tree_levels[level], 2)):\n",
    "                        var1, var2 = elem[0], elem[1]\n",
    "                        if var1 != var2 and len(set(var1).intersection(set(var2))) != 0:\n",
    "                            bqm_c3 = dimod.generators.combinations([var1, var2], 1, strength=3000.0)\n",
    "                            bqm.update(bqm_c3)\n",
    "            else:\n",
    "                bqm_c2 = dimod.generators.combinations(join_order_tree_levels[level], 0, strength=3000.0)\n",
    "                bqm.update(bqm_c2)\n",
    "    return bqm"
   ]
  },
  {
   "cell_type": "markdown",
   "id": "480fb6dd-c79b-4743-b331-6beb58bdefdc",
   "metadata": {},
   "source": [
    "## Complete algorithm"
   ]
  },
  {
   "cell_type": "code",
   "execution_count": 12,
   "id": "9514f84b-724d-4309-9d1f-d13052be98af",
   "metadata": {},
   "outputs": [
    {
     "data": {
      "image/png": "[encoded data removed]",
      "text/plain": [
       "<Figure size 432x288 with 1 Axes>"
      ]
     },
     "metadata": {},
     "output_type": "display_data"
    }
   ],
   "source": [
    "start, stop, step, rel_size_scale, graph_type = 4, 5, 1, 1000, \"complete\"\n",
    "query_graph, cardinality_distribution = generate_query_graph(start, stop, step, rel_size_scale, graph_type)\n",
    "join_order_graph, join_order_tree_levels = create_join_order_graph(query_graph, cardinality_distribution)\n",
    "nx.draw(join_order_graph, with_labels=True, font_weight='bold')\n",
    "bqm = dimod.from_networkx_graph(join_order_graph, vartype='BINARY', node_attribute_name = 'linear_bias', edge_attribute_name='quadratic_bias')"
   ]
  },
  {
   "cell_type": "code",
   "execution_count": 13,
   "id": "113333f0-b8c7-4bfd-a95a-d882c20b029a",
   "metadata": {},
   "outputs": [
    {
     "name": "stdout",
     "output_type": "stream",
     "text": [
      "frozendict.frozendict({2: 1, 3: 1, 4: 1})\n",
      "[(0, 1), (0, 2), (0, 3), (1, 2), (1, 3), (2, 3)] 1\n",
      "[(0, 1, 2), (0, 1, 3), (0, 2, 3), (1, 2, 3)] 1\n",
      "frozendict.frozendict({2: 2, 4: 1})\n",
      "[(0, 1), (0, 2), (0, 3), (1, 2), (1, 3), (2, 3)] 2\n"
     ]
    }
   ],
   "source": [
    "bqms = []\n",
    "bqm = constraint1(bqm, query_graph)\n",
    "join_order_trees = calculate_join_order_tree_levels(list(range(start)))\n",
    "tree_classes = set()\n",
    "for tree in join_order_trees:\n",
    "    tree_classes.add(frozendict(count_levels(tree)))\n",
    "for tree_class in tree_classes:\n",
    "    new_bqm = copy.deepcopy(bqm)\n",
    "    new_bqm = constraint2(new_bqm, query_graph, join_order_tree_levels, tree_class)\n",
    "    bqms.append(new_bqm)\n",
    "#print(len(bqms))\n",
    "#for bqm in bqms:\n",
    "#    print(bqm)"
   ]
  },
  {
   "cell_type": "code",
   "execution_count": 14,
   "id": "9fe0fd46-a29f-4533-b8c0-ad9a26090f95",
   "metadata": {},
   "outputs": [],
   "source": [
    "def solve_bqm_in_leap(bqm, sampler = \"Kerberos\"):\n",
    "    bqm.normalize()\n",
    "    if sampler == \"Kerberos\":\n",
    "        kerberos_sampler = KerberosSampler().sample(bqm, max_iter=10, convergence=3, qpu_params={'label': 'Join order optimization'})\n",
    "        sample = kerberos_sampler.first.sample\n",
    "    elif sampler == \"LeapHybrid\":\n",
    "        sampler = LeapHybridSampler()\n",
    "        sampleset = sampler.sample(bqm)\n",
    "        sample = sampleset.first.sample\n",
    "    return sample"
   ]
  },
  {
   "cell_type": "code",
   "execution_count": 15,
   "id": "4f6d622f-d8ac-4881-81c2-ded40c206951",
   "metadata": {},
   "outputs": [],
   "source": [
    "def solve_bqm_in_amazon_braket(bqm, system = \"Advantage\"):\n",
    "    device = None\n",
    "    num_reads = 1000\n",
    "    if system == \"Advantage\":\n",
    "        device = \"arn:aws:braket:::device/qpu/d-wave/Advantage_system4\"\n",
    "    elif system == \"2000Q\":\n",
    "        device = \"arn:aws:braket:::device/qpu/d-wave/DW_2000Q_6\"\n",
    "    sampler = BraketDWaveSampler(device_arn = device)\n",
    "    sampler = EmbeddingComposite(sampler)\n",
    "    sampleset = sampler.sample(bqm, num_reads=num_reads)\n",
    "    sample = sampleset.first.sample\n",
    "    \n",
    "    # print timing info for the previous D-Wave job\n",
    "    print(sampleset.info['additionalMetadata']['dwaveMetadata']['timing'])\n",
    "    \n",
    "    return sample"
   ]
  },
  {
   "cell_type": "code",
   "execution_count": 16,
   "id": "99389786-a14e-42ef-8263-9ead78e3f89f",
   "metadata": {},
   "outputs": [],
   "source": [
    "def solve_with_simulated_annealing(bqm):\n",
    "    sampler = dimod.SimulatedAnnealingSampler()\n",
    "    sampleset = sampler.sample(bqm, num_reads=100)\n",
    "    sample = sampleset.first.sample\n",
    "    return sample"
   ]
  },
  {
   "cell_type": "code",
   "execution_count": 17,
   "id": "c013c8c4-e540-4833-89ab-4e50346ddfef",
   "metadata": {},
   "outputs": [],
   "source": [
    "samples = []\n",
    "for bqm in bqms:\n",
    "    #sample = solve_bqm_in_leap(bqm, \"LeapHybrid\")\n",
    "    sample = solve_with_simulated_annealing(bqm)\n",
    "    samples.append(sample)"
   ]
  },
  {
   "cell_type": "code",
   "execution_count": 18,
   "id": "7e0e3a04-6ffe-4f2d-9d23-d66827fe227a",
   "metadata": {},
   "outputs": [
    {
     "name": "stdout",
     "output_type": "stream",
     "text": [
      "---\n",
      "(0, 1, 2) 1\n",
      "(1, 2) 1\n",
      "---\n",
      "(0, 3) 1\n",
      "(1, 2) 1\n"
     ]
    }
   ],
   "source": [
    "for sample in samples:\n",
    "    print(\"---\")\n",
    "    for varname, value in sample.items():\n",
    "        if value == 1:\n",
    "            print(varname, value)"
   ]
  },
  {
   "cell_type": "markdown",
   "id": "5a69ee9d-a0c7-426b-adfd-fec698cafde7",
   "metadata": {},
   "source": [
    "### Divide and conquer large join order problems"
   ]
  }
 ],
 "metadata": {
  "kernelspec": {
   "display_name": "Python 3 (ipykernel)",
   "language": "python",
   "name": "python3"
  },
  "language_info": {
   "codemirror_mode": {
    "name": "ipython",
    "version": 3
   },
   "file_extension": ".py",
   "mimetype": "text/x-python",
   "name": "python",
   "nbconvert_exporter": "python",
   "pygments_lexer": "ipython3",
   "version": "3.10.2"
  }
 },
 "nbformat": 4,
 "nbformat_minor": 5
}
