{
 "cells": [
  {
   "cell_type": "code",
   "execution_count": 1,
   "metadata": {},
   "outputs": [],
   "source": [
    "from classical_algorithms.dynamic_programming import dynamic_programming\n",
    "from classical_algorithms.weights_costs import basic_cost\n",
    "from query_graphs.query_graphs import QueryGraphs\n",
    "\n",
    "query_graph = QueryGraphs().get_graph_7(14)\n",
    "\n",
    "relations = {}\n",
    "for node in query_graph.nodes(data=True):\n",
    "    relations[node[0]] = node[1]\n",
    "\n",
    "selectivity = dict()\n",
    "for edge in query_graph.edges(data=True):\n",
    "    selectivity[(edge[0], edge[1])] = edge[2]\n",
    "\n",
    "#join_trees = [[[0, 1], 2], [[0, 2], 1], [[1, 2], 0], [2, [1, 0]]]\n",
    "#join_trees = [[[[0, 1], 2], 3], [[[1, 2], 0], 3], [[0, 1], [2, 3]], [3, [2, [1, 0]]]]\n",
    "\n",
    "#for join_tree in join_trees:\n",
    "#    print(basic_cost(join_tree, relations, selectivity))\n"
   ]
  },
  {
   "cell_type": "code",
   "execution_count": 2,
   "metadata": {},
   "outputs": [
    {
     "name": "stdout",
     "output_type": "stream",
     "text": [
      "[6, [3, [1, [2, [5, [4, [9, [7, [13, [12, [11, [10, [0, 8]]]]]]]]]]]]]\n",
      "1380.1955169334171\n"
     ]
    }
   ],
   "source": [
    "result = dynamic_programming(query_graph, relations, selectivity)\n",
    "print(result)\n",
    "print(basic_cost(result, relations, selectivity))"
   ]
  },
  {
   "cell_type": "code",
   "execution_count": 3,
   "metadata": {},
   "outputs": [
    {
     "name": "stdout",
     "output_type": "stream",
     "text": [
      "946588037048.7301\n"
     ]
    }
   ],
   "source": [
    "# Comapre with some random join tree\n",
    "print(basic_cost([9, [6, [7, [8, [5, [4, [3, [2, [1, 0]]]]]]]]], relations, selectivity))"
   ]
  }
 ],
 "metadata": {
  "kernelspec": {
   "display_name": "Python 3",
   "language": "python",
   "name": "python3"
  },
  "language_info": {
   "codemirror_mode": {
    "name": "ipython",
    "version": 3
   },
   "file_extension": ".py",
   "mimetype": "text/x-python",
   "name": "python",
   "nbconvert_exporter": "python",
   "pygments_lexer": "ipython3",
   "version": "3.10.8"
  }
 },
 "nbformat": 4,
 "nbformat_minor": 2
}
