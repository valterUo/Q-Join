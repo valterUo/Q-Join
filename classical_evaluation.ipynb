{
 "cells": [
  {
   "cell_type": "code",
   "execution_count": 1,
   "metadata": {},
   "outputs": [
    {
     "data": {
      "image/png": "[encoded data removed]",
      "text/plain": [
       "<Figure size 432x288 with 1 Axes>"
      ]
     },
     "metadata": {},
     "output_type": "display_data"
    }
   ],
   "source": [
    "from classical_algorithms.dynamic_programming import dynamic_programming\n",
    "from classical_algorithms.weights_costs import basic_cost\n",
    "from query_graphs.query_graphs import QueryGraphs\n",
    "import networkx as nx\n",
    "\n",
    "query_graph = QueryGraphs().get_graph_7(14)\n",
    "query_graph = QueryGraphs().get_graph_8(5)\n",
    "\n",
    "relations = {}\n",
    "for node in query_graph.nodes(data=True):\n",
    "    relations[node[0]] = node[1]\n",
    "\n",
    "selectivity = dict()\n",
    "for edge in query_graph.edges(data=True):\n",
    "    selectivity[(edge[0], edge[1])] = edge[2]\n",
    "\n",
    "#join_trees = [[[0, 1], 2], [[0, 2], 1], [[1, 2], 0], [2, [1, 0]]]\n",
    "#join_trees = [[[[0, 1], 2], 3], [[[1, 2], 0], 3], [[0, 1], [2, 3]], [3, [2, [1, 0]]]]\n",
    "\n",
    "#for join_tree in join_trees:\n",
    "#    print(basic_cost(join_tree, relations, selectivity))\n",
    "\n",
    "nx.draw(query_graph, with_labels=True)"
   ]
  },
  {
   "cell_type": "code",
   "execution_count": 2,
   "metadata": {},
   "outputs": [
    {
     "name": "stdout",
     "output_type": "stream",
     "text": [
      "[4, [2, [0, [3, 1]]]]\n",
      "104.07804681778546\n"
     ]
    }
   ],
   "source": [
    "result = dynamic_programming(query_graph, relations, selectivity)\n",
    "print(result)\n",
    "#print(selectivity)\n",
    "print(basic_cost(result, relations, selectivity))"
   ]
  },
  {
   "cell_type": "code",
   "execution_count": 5,
   "metadata": {},
   "outputs": [
    {
     "name": "stdout",
     "output_type": "stream",
     "text": [
      "104.07804681778546\n"
     ]
    }
   ],
   "source": [
    "# Comapre with some random join tree\n",
    "print(basic_cost([4, [2, [0, [1, 3]]]], relations, selectivity))"
   ]
  },
  {
   "cell_type": "code",
   "execution_count": 9,
   "metadata": {},
   "outputs": [
    {
     "name": "stdout",
     "output_type": "stream",
     "text": [
      "82.0075084683103\n"
     ]
    }
   ],
   "source": [
    "from classical_algorithms.weights_costs import join_tree_cardinality\n",
    "\n",
    "print(join_tree_cardinality([4, [2, [0, [1, 3]]]], relations, selectivity))"
   ]
  }
 ],
 "metadata": {
  "kernelspec": {
   "display_name": "Python 3",
   "language": "python",
   "name": "python3"
  },
  "language_info": {
   "codemirror_mode": {
    "name": "ipython",
    "version": 3
   },
   "file_extension": ".py",
   "mimetype": "text/x-python",
   "name": "python",
   "nbconvert_exporter": "python",
   "pygments_lexer": "ipython3",
   "version": "3.10.8"
  }
 },
 "nbformat": 4,
 "nbformat_minor": 2
}
